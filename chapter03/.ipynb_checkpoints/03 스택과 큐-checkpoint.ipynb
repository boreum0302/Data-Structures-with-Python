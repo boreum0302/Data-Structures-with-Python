{
 "cells": [
  {
   "cell_type": "markdown",
   "metadata": {},
   "source": [
    "#### 프로그램 3.1"
   ]
  },
  {
   "cell_type": "code",
   "execution_count": 1,
   "metadata": {},
   "outputs": [],
   "source": [
    "def push(item):\n",
    "    stack.append(item)\n",
    "\n",
    "def peek():\n",
    "    if len(stack) != 0:\n",
    "        return stack[-1]\n",
    "    \n",
    "def pop():\n",
    "    if len(stack) != 0:\n",
    "        item = stack.pop(-1)\n",
    "        return item"
   ]
  },
  {
   "cell_type": "markdown",
   "metadata": {},
   "source": [
    "#### 프로그램 3.2"
   ]
  },
  {
   "cell_type": "code",
   "execution_count": 2,
   "metadata": {},
   "outputs": [],
   "source": [
    "class Node:\n",
    "\n",
    "    def __init__(self, item, link):\n",
    "        self.item = item\n",
    "        self.next = link\n",
    "\n",
    "def push(item):\n",
    "    global top\n",
    "    global size\n",
    "    top = Node(item, top)  # 첫 번째 노드로 삽입\n",
    "    size += 1\n",
    "    \n",
    "def peek():\n",
    "    if size != 0:\n",
    "        return top.item\n",
    "    \n",
    "def pop():\n",
    "    global top\n",
    "    global size\n",
    "    if size != 0:\n",
    "        top_item = top.item\n",
    "        top = top.next\n",
    "        size -= 1\n",
    "        return top_item\n",
    "    \n",
    "def print_stack():\n",
    "    print('top -> ', end='')\n",
    "    p = top\n",
    "    while p:\n",
    "        if p.next != None:\n",
    "            print(p.item, '-> ', end='')\n",
    "        else:\n",
    "            print(p.item, end='')\n",
    "        p = p.next"
   ]
  },
  {
   "cell_type": "code",
   "execution_count": 3,
   "metadata": {},
   "outputs": [
    {
     "name": "stdout",
     "output_type": "stream",
     "text": [
      "top -> 바람과 함께 사라지다 -> 베리베리 스트로베리 -> 엄마는 외계인"
     ]
    }
   ],
   "source": [
    "top, size = None, 0\n",
    "push('엄마는 외계인')\n",
    "push('베리베리 스트로베리')\n",
    "push('바람과 함께 사라지다')\n",
    "print_stack()"
   ]
  },
  {
   "cell_type": "code",
   "execution_count": 4,
   "metadata": {},
   "outputs": [
    {
     "name": "stdout",
     "output_type": "stream",
     "text": [
      "top -> 베리베리 스트로베리 -> 엄마는 외계인"
     ]
    }
   ],
   "source": [
    "pop()\n",
    "print_stack()"
   ]
  },
  {
   "cell_type": "markdown",
   "metadata": {},
   "source": [
    "#### 연습문제 3.17"
   ]
  },
  {
   "cell_type": "code",
   "execution_count": 5,
   "metadata": {},
   "outputs": [],
   "source": [
    "def solution0317(string):\n",
    "    stack = []\n",
    "    for i in range(len(string)):\n",
    "        if string[i] in \"[{(\":\n",
    "            stack.append(string[i])\n",
    "        else:\n",
    "            temp = stack.pop()\n",
    "            if (temp, string[i]) == ('[',']') or (temp, string[i]) == ('{','}') or (temp, string[i]) == ('(',')'):\n",
    "                continue\n",
    "            else:\n",
    "                return False\n",
    "    return stack == []"
   ]
  },
  {
   "cell_type": "markdown",
   "metadata": {},
   "source": [
    "#### 연습문제 3.16"
   ]
  },
  {
   "cell_type": "code",
   "execution_count": 6,
   "metadata": {},
   "outputs": [
    {
     "name": "stdout",
     "output_type": "stream",
     "text": [
      "True\n"
     ]
    }
   ],
   "source": [
    "print(solution0317(\"{{(){()}}}\"))"
   ]
  },
  {
   "cell_type": "code",
   "execution_count": 7,
   "metadata": {},
   "outputs": [
    {
     "name": "stdout",
     "output_type": "stream",
     "text": [
      "False\n"
     ]
    }
   ],
   "source": [
    "print(solution0317(\"{{(){()})()}\"))"
   ]
  },
  {
   "cell_type": "markdown",
   "metadata": {},
   "source": [
    "#### 연습문제 3.18"
   ]
  },
  {
   "cell_type": "code",
   "execution_count": 8,
   "metadata": {},
   "outputs": [],
   "source": [
    "def Palindrome(string):\n",
    "    for i in range(len(string)//2):\n",
    "        if string[i] != string[len(string) - 1 - i]:\n",
    "            return False\n",
    "        else:\n",
    "            continue\n",
    "    return True"
   ]
  },
  {
   "cell_type": "code",
   "execution_count": 9,
   "metadata": {},
   "outputs": [
    {
     "name": "stdout",
     "output_type": "stream",
     "text": [
      "True\n"
     ]
    }
   ],
   "source": [
    "print(Palindrome('다시합창합시다'))"
   ]
  },
  {
   "cell_type": "code",
   "execution_count": 10,
   "metadata": {},
   "outputs": [
    {
     "name": "stdout",
     "output_type": "stream",
     "text": [
      "False\n"
     ]
    }
   ],
   "source": [
    "print(Palindrome('알파카털파카'))"
   ]
  },
  {
   "cell_type": "markdown",
   "metadata": {},
   "source": [
    "#### 연습문제 3.20"
   ]
  },
  {
   "cell_type": "code",
   "execution_count": 11,
   "metadata": {},
   "outputs": [],
   "source": [
    "from slist import SList"
   ]
  },
  {
   "cell_type": "code",
   "execution_count": 12,
   "metadata": {},
   "outputs": [],
   "source": [
    "class EmptyError(Exception): pass"
   ]
  },
  {
   "cell_type": "code",
   "execution_count": 13,
   "metadata": {},
   "outputs": [],
   "source": [
    "class Stack(SList):\n",
    "    \n",
    "    def pop(self):\n",
    "        if self.is_empty():\n",
    "            raise EmptyError('Underflow')\n",
    "        else:\n",
    "            temp = self.head.item\n",
    "            self.head = self.head.next\n",
    "            self.size -= 1\n",
    "            return temp"
   ]
  },
  {
   "cell_type": "code",
   "execution_count": 14,
   "metadata": {},
   "outputs": [],
   "source": [
    "def solution0320(expression):\n",
    "    \n",
    "    stack = Stack()\n",
    "    \n",
    "    for x in expression:\n",
    "        if type(x) == int:\n",
    "            stack.insert_front(x)\n",
    "        elif x == '+':\n",
    "            temp = stack.pop()\n",
    "            stack.head.item += temp\n",
    "        elif x == '-':\n",
    "            temp = stack.pop()\n",
    "            stack.head.item -= temp\n",
    "        elif x == '*':\n",
    "            temp = stack.pop()\n",
    "            stack.head.item *= temp\n",
    "        elif x == '/':\n",
    "            temp = stack.pop()\n",
    "            stack.head.item /= temp\n",
    "        else:\n",
    "            raise Exception('invalid expression')\n",
    "            \n",
    "    return stack.head.item"
   ]
  },
  {
   "cell_type": "code",
   "execution_count": 15,
   "metadata": {},
   "outputs": [
    {
     "name": "stdout",
     "output_type": "stream",
     "text": [
      "9.0\n"
     ]
    }
   ],
   "source": [
    "print(1 * (7 - (4 / 2)) + (8 + (2 * 6)) / 5)"
   ]
  },
  {
   "cell_type": "code",
   "execution_count": 16,
   "metadata": {
    "scrolled": true
   },
   "outputs": [
    {
     "name": "stdout",
     "output_type": "stream",
     "text": [
      "9.0\n"
     ]
    }
   ],
   "source": [
    "print(solution0320([1, 7, 4, 2, '/', '-', '*', 8, 2, 6, '*', '+', 5, '/', '+']))"
   ]
  },
  {
   "cell_type": "markdown",
   "metadata": {},
   "source": [
    "#### 연습문제 3.24"
   ]
  },
  {
   "cell_type": "code",
   "execution_count": 17,
   "metadata": {},
   "outputs": [],
   "source": [
    "def solution0324(stack):\n",
    "    result = Stack()\n",
    "    for i in range(stack.size):\n",
    "        result.insert_front(stack.pop())\n",
    "    return result"
   ]
  },
  {
   "cell_type": "code",
   "execution_count": 18,
   "metadata": {},
   "outputs": [
    {
     "name": "stdout",
     "output_type": "stream",
     "text": [
      "3 -> 2 -> 1\n",
      "1 -> 2 -> 3\n"
     ]
    }
   ],
   "source": [
    "stack = Stack()\n",
    "stack.insert_front(1)\n",
    "stack.insert_front(2)\n",
    "stack.insert_front(3)\n",
    "stack.print_list()\n",
    "solution0324(stack).print_list()"
   ]
  }
 ],
 "metadata": {
  "kernelspec": {
   "display_name": "Python 3",
   "language": "python",
   "name": "python3"
  },
  "language_info": {
   "codemirror_mode": {
    "name": "ipython",
    "version": 3
   },
   "file_extension": ".py",
   "mimetype": "text/x-python",
   "name": "python",
   "nbconvert_exporter": "python",
   "pygments_lexer": "ipython3",
   "version": "3.7.3"
  }
 },
 "nbformat": 4,
 "nbformat_minor": 2
}
