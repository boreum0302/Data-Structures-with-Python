{
 "cells": [
  {
   "cell_type": "markdown",
   "metadata": {},
   "source": [
    "# Trie\n",
    "- Autocomplete Algorithm  \n",
    "- https://en.wikipedia.org/wiki/Trie"
   ]
  },
  {
   "cell_type": "code",
   "execution_count": 1,
   "metadata": {},
   "outputs": [],
   "source": [
    "class Node():\n",
    "    \n",
    "    def __init__(self, key, value=None):\n",
    "        self.key = key  # 알파벳임\n",
    "        self.value = value  # key가 단어의 마지막 알파벳인 경우 그 단어를 저장함\n",
    "        self.children = {}  # [키-값]으로 [알파벳-그 알파벳을 key로 가지는 Node 객체]을 가지는 딕셔너리임\n",
    "        \n",
    "class Trie():\n",
    "    \n",
    "    def __init__(self):\n",
    "        self.root = Node(None)\n",
    "    \n",
    "    # string을 트리에 삽입하기\n",
    "    def insert(self, string):\n",
    "        cur = self.root  # cur이 root를 가리키게 함\n",
    "        for s in string:\n",
    "            if s not in cur.children:  # children 중에 s가 없다면\n",
    "                cur.children[s] = Node(s)  # [s-Node(s)]의 [키-값] 삽입하기\n",
    "            cur = cur.children[s]  # cur이 Node(s)를 가리키게 함\n",
    "        # 현재 cur은 string의 마지막 알파벳을 key로 가지는 Node를 가리키므로\n",
    "        cur.value = string  # 그 Node의 value에 string을 저장해줌\n",
    "    \n",
    "    # string이 트리에 존재하는지 여부를 반환하기\n",
    "    def search(self, string):\n",
    "        cur = self.root  # cur이 root를 가리키게 함\n",
    "        for s in string:\n",
    "            if s in cur.children:  # children 중에 s가 있다면\n",
    "                cur = cur.children[s]  # cur이 Node(s)를 가리키게 함\n",
    "            else:  # 아니라면\n",
    "                return False  # 트리에 string이 존재하지 않는 것임\n",
    "        # 현재 cur은 string의 마지막 알파벳을 key로 가지는 Node를 가리킴\n",
    "        if cur.value == string:  # 그 노드의 value에 string이 저장되어 있다면\n",
    "            return True  # 트리에 string이 존재하는 것임\n",
    "        else:  # 아니라면\n",
    "            return False  # 트리에 string이 존재하지 않는 것임\n",
    "    \n",
    "    # 트리에 존재하는 단어들 중 prefix로 시작하는 단어들을 반환하기\n",
    "    def starts_with(self, prefix):\n",
    "        cur = self.root  # cur이 root를 가리키게 함\n",
    "        result = []  # prefix로 시작하는 단어들이 담길 리스트임\n",
    "        for s in prefix:\n",
    "            if s in cur.children:\n",
    "                cur = cur.children[s]\n",
    "            else:  # prefix로 시작하는 단어가 트리에 존재하지 않는다면\n",
    "                return result # 빈 리스트 반환하기\n",
    "        # 현재 cur은 prefix의 마지막 알파벳을 key로 가지는 Node를 가리킴\n",
    "        # cur에서부터 BFS 하면서 None이 아닌 value를 찾기\n",
    "        queue = [cur]\n",
    "        while len(queue) > 0:\n",
    "            cur = queue.pop(0)\n",
    "            if cur.value != None:\n",
    "                result.append(cur.value)\n",
    "            for children in cur.children.values():\n",
    "                queue.append(children)\n",
    "        return result"
   ]
  }
 ],
 "metadata": {
  "kernelspec": {
   "display_name": "Python 3",
   "language": "python",
   "name": "python3"
  },
  "language_info": {
   "codemirror_mode": {
    "name": "ipython",
    "version": 3
   },
   "file_extension": ".py",
   "mimetype": "text/x-python",
   "name": "python",
   "nbconvert_exporter": "python",
   "pygments_lexer": "ipython3",
   "version": "3.7.6"
  }
 },
 "nbformat": 4,
 "nbformat_minor": 4
}
