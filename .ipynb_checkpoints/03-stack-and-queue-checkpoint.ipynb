{
 "cells": [
  {
   "cell_type": "markdown",
   "metadata": {},
   "source": [
    "# Programs"
   ]
  },
  {
   "cell_type": "markdown",
   "metadata": {},
   "source": [
    "#### 2.1 Singly Linked List"
   ]
  },
  {
   "cell_type": "code",
   "execution_count": 18,
   "metadata": {},
   "outputs": [],
   "source": [
    "class SList:\n",
    "    \n",
    "    class EmptyError(Exception):\n",
    "        pass\n",
    "    \n",
    "    class Node:\n",
    "        def __init__(self, item, link):\n",
    "            self.item = item\n",
    "            self.next = link  # 다음 노드의 레퍼런스\n",
    "            \n",
    "    def __init__(self):\n",
    "        self.head = None\n",
    "        self.size = 0\n",
    "        \n",
    "    def size(self): return self.size\n",
    "    def is_empty(self): return self.size == 0\n",
    "    \n",
    "    def insert_front(self, item):\n",
    "        if self.is_empty():\n",
    "            self.head = self.Node(item, None)\n",
    "        else:\n",
    "            self.head = self.Node(item, self.head)\n",
    "        self.size += 1\n",
    "        \n",
    "    def insert_after(self, item, p):\n",
    "        p.next = self.Node(item, p.next)\n",
    "        self.size += 1\n",
    "        \n",
    "    def delete_front(self):\n",
    "        if self.is_empty():\n",
    "            raise EmptyError('Underflow')\n",
    "        else:\n",
    "            self.head = self.head.next\n",
    "            self.size -= 1\n",
    "            \n",
    "    def delete_after(self, p):\n",
    "        if self.is_empty():\n",
    "            raise EmptyError('Unerflow')\n",
    "        t = p.next\n",
    "        p.next = t.next\n",
    "        self.size -= 1\n",
    "        \n",
    "    def search(self, target):\n",
    "        p = self.head\n",
    "        for k in range(self.size):\n",
    "            if target == p.item: return k\n",
    "            p = p.next\n",
    "        return None\n",
    "    \n",
    "    def print_list(self):\n",
    "        p = self.head\n",
    "        while p:\n",
    "            if p.next != None:\n",
    "                print(p.item, ' -> ', end='', sep='')\n",
    "            else:\n",
    "                print(p.item, end='')\n",
    "            p = p.next"
   ]
  },
  {
   "cell_type": "markdown",
   "metadata": {},
   "source": [
    "#### 3.2 Stack"
   ]
  },
  {
   "cell_type": "code",
   "execution_count": 19,
   "metadata": {},
   "outputs": [],
   "source": [
    "class Stack(SList):\n",
    "\n",
    "    class EmptyError(Exception):\n",
    "        pass\n",
    "    \n",
    "    def push(self, item):\n",
    "        self.insert_front(item)\n",
    "    \n",
    "    def peek(self):\n",
    "        if self.is_empty():\n",
    "            raise EmptyError('Underflow')\n",
    "        else:\n",
    "            return self.head.item\n",
    "    \n",
    "    def pop(self):\n",
    "        if self.is_empty():\n",
    "            raise EmptyError('Underflow')\n",
    "        else:\n",
    "            temp = self.head.item\n",
    "            self.delete_front()\n",
    "            return temp\n",
    "    \n",
    "    def print_stack(self):\n",
    "        print('top -> ', end='')\n",
    "        self.print_list()\n"
   ]
  },
  {
   "cell_type": "markdown",
   "metadata": {},
   "source": [
    "#### 3.4 Queue"
   ]
  },
  {
   "cell_type": "code",
   "execution_count": 20,
   "metadata": {},
   "outputs": [],
   "source": [
    "class Queue(SList):\n",
    "    \n",
    "    class EmptyError(Exception):\n",
    "        pass\n",
    "    \n",
    "    def __init__(self):\n",
    "        self.head = None\n",
    "        self.rear = None\n",
    "        self.size = 0\n",
    "        \n",
    "    def add(self, item):\n",
    "        if self.is_empty():\n",
    "            head = Node(item, None)\n",
    "        else:\n",
    "            rear.next = Node(item, None)\n",
    "        rear = Node(item, None)\n",
    "        self.size += 1\n",
    "    \n",
    "    def remove(self):\n",
    "        if self.is_empty():\n",
    "            raise EmptyError('Underflow')\n",
    "        else:\n",
    "            temp = self.head.item\n",
    "            self.head = self.head.next\n",
    "            self.size -= 1\n",
    "            return self.head.item\n",
    "        \n",
    "    def print_queue(self):\n",
    "        print('front -> ', end='')\n",
    "        self.print_list()\n",
    "        print(' <- rear', end='')"
   ]
  },
  {
   "cell_type": "markdown",
   "metadata": {},
   "source": [
    "#### 3.5 Deque"
   ]
  },
  {
   "cell_type": "code",
   "execution_count": 21,
   "metadata": {},
   "outputs": [],
   "source": [
    "from collections import deque"
   ]
  },
  {
   "cell_type": "markdown",
   "metadata": {},
   "source": [
    "# Exercises"
   ]
  },
  {
   "cell_type": "markdown",
   "metadata": {},
   "source": [
    "#### 3.17"
   ]
  },
  {
   "cell_type": "code",
   "execution_count": 22,
   "metadata": {},
   "outputs": [],
   "source": [
    "def solution0317(string):\n",
    "    stack = []\n",
    "    for i in range(len(string)):\n",
    "        if string[i] in \"[{(\":\n",
    "            stack.append(string[i])\n",
    "        else:\n",
    "            temp = stack.pop()\n",
    "            if (temp, string[i]) == ('[',']') or (temp, string[i]) == ('{','}') or (temp, string[i]) == ('(',')'):\n",
    "                continue\n",
    "            else:\n",
    "                return False\n",
    "    return stack == []"
   ]
  },
  {
   "cell_type": "markdown",
   "metadata": {},
   "source": [
    "#### 3.16"
   ]
  },
  {
   "cell_type": "code",
   "execution_count": 23,
   "metadata": {},
   "outputs": [
    {
     "name": "stdout",
     "output_type": "stream",
     "text": [
      "True\n"
     ]
    }
   ],
   "source": [
    "print(solution0317(\"{{(){()}}}\"))"
   ]
  },
  {
   "cell_type": "code",
   "execution_count": 24,
   "metadata": {},
   "outputs": [
    {
     "name": "stdout",
     "output_type": "stream",
     "text": [
      "False\n"
     ]
    }
   ],
   "source": [
    "print(solution0317(\"{{(){()})()}\"))"
   ]
  },
  {
   "cell_type": "markdown",
   "metadata": {},
   "source": [
    "#### 3.18"
   ]
  },
  {
   "cell_type": "code",
   "execution_count": 25,
   "metadata": {},
   "outputs": [],
   "source": [
    "def Palindrome(string):\n",
    "    for i in range(len(string)//2):\n",
    "        if string[i] != string[len(string) - 1 - i]:\n",
    "            return False\n",
    "        else:\n",
    "            continue\n",
    "    return True"
   ]
  },
  {
   "cell_type": "code",
   "execution_count": 26,
   "metadata": {},
   "outputs": [
    {
     "name": "stdout",
     "output_type": "stream",
     "text": [
      "True\n"
     ]
    }
   ],
   "source": [
    "print(Palindrome('다시합창합시다'))"
   ]
  },
  {
   "cell_type": "code",
   "execution_count": 27,
   "metadata": {},
   "outputs": [
    {
     "name": "stdout",
     "output_type": "stream",
     "text": [
      "False\n"
     ]
    }
   ],
   "source": [
    "print(Palindrome('알파카털파카'))"
   ]
  },
  {
   "cell_type": "markdown",
   "metadata": {},
   "source": [
    "#### 3.20"
   ]
  },
  {
   "cell_type": "code",
   "execution_count": 28,
   "metadata": {},
   "outputs": [],
   "source": [
    "def solution0320(expression):\n",
    "    \n",
    "    stack = Stack()\n",
    "    \n",
    "    for x in expression:\n",
    "        if type(x) == int:\n",
    "            stack.push(x)\n",
    "        elif x == '+':\n",
    "            temp = stack.pop()\n",
    "            stack.head.item += temp\n",
    "        elif x == '-':\n",
    "            temp = stack.pop()\n",
    "            stack.head.item -= temp\n",
    "        elif x == '*':\n",
    "            temp = stack.pop()\n",
    "            stack.head.item *= temp\n",
    "        elif x == '/':\n",
    "            temp = stack.pop()\n",
    "            stack.head.item /= temp\n",
    "        else:\n",
    "            raise Exception('invalid expression')\n",
    "            \n",
    "    return stack.head.item"
   ]
  },
  {
   "cell_type": "code",
   "execution_count": 29,
   "metadata": {},
   "outputs": [
    {
     "name": "stdout",
     "output_type": "stream",
     "text": [
      "9.0\n"
     ]
    }
   ],
   "source": [
    "print(1 * (7 - (4 / 2)) + (8 + (2 * 6)) / 5)"
   ]
  },
  {
   "cell_type": "code",
   "execution_count": 30,
   "metadata": {},
   "outputs": [
    {
     "name": "stdout",
     "output_type": "stream",
     "text": [
      "9.0\n"
     ]
    }
   ],
   "source": [
    "print(solution0320([1, 7, 4, 2, '/', '-', '*', 8, 2, 6, '*', '+', 5, '/', '+']))"
   ]
  },
  {
   "cell_type": "markdown",
   "metadata": {},
   "source": [
    "#### 3.24"
   ]
  },
  {
   "cell_type": "code",
   "execution_count": 31,
   "metadata": {},
   "outputs": [],
   "source": [
    "def solution0324(stack):\n",
    "    result = Stack()\n",
    "    for i in range(stack.size):\n",
    "        result.push(stack.pop())\n",
    "    return result"
   ]
  },
  {
   "cell_type": "code",
   "execution_count": 32,
   "metadata": {},
   "outputs": [
    {
     "name": "stdout",
     "output_type": "stream",
     "text": [
      "top -> 3 -> 2 -> 1top -> 1 -> 2 -> 3"
     ]
    }
   ],
   "source": [
    "stack = Stack()\n",
    "stack.push(1)\n",
    "stack.push(2)\n",
    "stack.push(3)\n",
    "stack.print_stack()\n",
    "solution0324(stack).print_stack()"
   ]
  },
  {
   "cell_type": "markdown",
   "metadata": {},
   "source": [
    "#### 3.27"
   ]
  },
  {
   "cell_type": "code",
   "execution_count": 33,
   "metadata": {},
   "outputs": [],
   "source": [
    "class QueueByStack():\n",
    "    \n",
    "    def __init__(self):\n",
    "        self.rear = Stack()\n",
    "        self.front = Stack()\n",
    "        \n",
    "    def add(self, item):\n",
    "        self.rear.push(item)\n",
    "        \n",
    "    def remove(self):\n",
    "        if self.front.is_empty():\n",
    "            for i in range(self.rear.size):\n",
    "                self.front.push(self.rear.pop())\n",
    "            return self.front.pop()\n",
    "        else:\n",
    "            return self.front.pop()\n",
    "        \n",
    "    def print_queue(self):\n",
    "        print('front -> ', end='')\n",
    "        self.front.print_list()\n",
    "        temp = Stack()\n",
    "        for i in range(self.rear.size):\n",
    "            temp.push(self.rear.pop())\n",
    "        temp.print_list()\n",
    "        for i in range(temp.size):\n",
    "            self.rear.push(temp.pop())\n",
    "        print(' <- rear')       "
   ]
  },
  {
   "cell_type": "code",
   "execution_count": 34,
   "metadata": {},
   "outputs": [
    {
     "name": "stdout",
     "output_type": "stream",
     "text": [
      "front -> 홍합 -> 바지락 -> 굴 -> 미더덕 <- rear\n",
      "front -> 굴 -> 미더덕 <- rear\n"
     ]
    }
   ],
   "source": [
    "q = QueueByStack()\n",
    "q.add('홍합')\n",
    "q.add('바지락')\n",
    "q.add('굴')\n",
    "q.add('미더덕')\n",
    "q.print_queue()\n",
    "q.remove()\n",
    "q.remove()\n",
    "q.print_queue()"
   ]
  }
 ],
 "metadata": {
  "kernelspec": {
   "display_name": "Python 3",
   "language": "python",
   "name": "python3"
  },
  "language_info": {
   "codemirror_mode": {
    "name": "ipython",
    "version": 3
   },
   "file_extension": ".py",
   "mimetype": "text/x-python",
   "name": "python",
   "nbconvert_exporter": "python",
   "pygments_lexer": "ipython3",
   "version": "3.7.6"
  }
 },
 "nbformat": 4,
 "nbformat_minor": 4
}
