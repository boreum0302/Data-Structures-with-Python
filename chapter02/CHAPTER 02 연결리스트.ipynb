{
 "cells": [
  {
   "cell_type": "markdown",
   "metadata": {},
   "source": [
    "#### 프로그램 2.1"
   ]
  },
  {
   "cell_type": "markdown",
   "metadata": {},
   "source": [
    "https://wikidocs.net/2836"
   ]
  },
  {
   "cell_type": "code",
   "execution_count": 1,
   "metadata": {},
   "outputs": [],
   "source": [
    "x = 100  # 변수 x는 메모리 어딘가에 위치한 객체인 100을 가리킴"
   ]
  },
  {
   "cell_type": "code",
   "execution_count": 2,
   "metadata": {},
   "outputs": [
    {
     "name": "stdout",
     "output_type": "stream",
     "text": [
      "140704376528800\n"
     ]
    }
   ],
   "source": [
    "print(id(x))  # 메모리에 할당된 객체 100의 위치, 즉 레퍼런스"
   ]
  },
  {
   "cell_type": "code",
   "execution_count": 3,
   "metadata": {},
   "outputs": [
    {
     "name": "stdout",
     "output_type": "stream",
     "text": [
      "Overwriting slist.py\n"
     ]
    }
   ],
   "source": [
    "%%writefile slist.py\n",
    "\n",
    "class SList:\n",
    "    \n",
    "    class Node:\n",
    "        def __init__(self, item, link):\n",
    "            self.item = item\n",
    "            self.next = link  # 다음 노드의 레퍼런스\n",
    "            \n",
    "    def __init__(self):\n",
    "        self.head = None\n",
    "        self.size = 0\n",
    "        \n",
    "    def size(self): return self.size\n",
    "    def is_empty(self): return self.size == 0\n",
    "    \n",
    "    def insert_front(self, item):\n",
    "        if self.is_empty():\n",
    "            self.head = self.Node(item, None)\n",
    "        else:\n",
    "            self.head = self.Node(item, self.head)\n",
    "        self.size += 1\n",
    "        \n",
    "    def insert_after(self, item, p):\n",
    "        p.next = self.Node(item, p.next)\n",
    "        self.size += 1\n",
    "        \n",
    "    def delete_front(self):\n",
    "        if self.is_empty():\n",
    "            raise EmptyError('Underflow')\n",
    "        else:\n",
    "            self.head = self.head.next\n",
    "            self.size -= 1\n",
    "            \n",
    "    def delete_after(self, p):\n",
    "        if self.is_empty():\n",
    "            raise EmptyError('Unerflow')\n",
    "        t = p.next\n",
    "        p.next = t.next\n",
    "        self.size -= 1\n",
    "        \n",
    "    def search(self, target):\n",
    "        p = self.head\n",
    "        for k in range(self.size):\n",
    "            if target == p.item: return k\n",
    "            p = p.next\n",
    "        return None\n",
    "    \n",
    "    def print_list(self):\n",
    "        p = self.head\n",
    "        while p:\n",
    "            if p.next != None:\n",
    "                print(p.item, ' -> ', end='', sep='')\n",
    "            else:\n",
    "                print(p.item)\n",
    "            p = p.next\n",
    "            \n",
    "class EmptyError(Exception):\n",
    "    pass"
   ]
  },
  {
   "cell_type": "markdown",
   "metadata": {},
   "source": [
    "#### 프로그램 2.2"
   ]
  },
  {
   "cell_type": "code",
   "execution_count": 4,
   "metadata": {},
   "outputs": [],
   "source": [
    "from slist import SList"
   ]
  },
  {
   "cell_type": "code",
   "execution_count": 5,
   "metadata": {},
   "outputs": [],
   "source": [
    "s = SList()"
   ]
  },
  {
   "cell_type": "code",
   "execution_count": 6,
   "metadata": {},
   "outputs": [
    {
     "name": "stdout",
     "output_type": "stream",
     "text": [
      "김밤순\n"
     ]
    }
   ],
   "source": [
    "s.insert_front('김밤순')\n",
    "s.print_list()"
   ]
  },
  {
   "cell_type": "code",
   "execution_count": 7,
   "metadata": {},
   "outputs": [
    {
     "name": "stdout",
     "output_type": "stream",
     "text": [
      "이수아 -> 김밤순\n"
     ]
    }
   ],
   "source": [
    "s.insert_front('이수아')\n",
    "s.print_list()"
   ]
  },
  {
   "cell_type": "code",
   "execution_count": 8,
   "metadata": {},
   "outputs": [
    {
     "name": "stdout",
     "output_type": "stream",
     "text": [
      "김애용 -> 이수아 -> 김밤순\n"
     ]
    }
   ],
   "source": [
    "s.insert_front('김애용')\n",
    "s.print_list()"
   ]
  },
  {
   "cell_type": "code",
   "execution_count": 9,
   "metadata": {},
   "outputs": [
    {
     "name": "stdout",
     "output_type": "stream",
     "text": [
      "김애용 -> 이수아 -> 이정환 -> 김밤순\n"
     ]
    }
   ],
   "source": [
    "s.insert_after('이정환', s.head.next)  # head.next가 가리키는 '이수아' 뒤에 '이정환' 삽입\n",
    "s.print_list()"
   ]
  },
  {
   "cell_type": "markdown",
   "metadata": {},
   "source": [
    "#### 프로그램 2.3"
   ]
  },
  {
   "cell_type": "code",
   "execution_count": 10,
   "metadata": {},
   "outputs": [
    {
     "name": "stdout",
     "output_type": "stream",
     "text": [
      "Overwriting dlist.py\n"
     ]
    }
   ],
   "source": [
    "%%writefile dlist.py\n",
    "\n",
    "class DList:\n",
    "    \n",
    "    class Node:\n",
    "        def __init__(self, item, prev, link):\n",
    "            self.item = item\n",
    "            self.prev = prev\n",
    "            self.next = link\n",
    "    \n",
    "    def __init__(self):  # head와 tail이라는 dummy node 생성\n",
    "        self.head = self.Node(None, None, None)\n",
    "        self.tail = self.Node(None, self.head, None)\n",
    "        self.head.next = self.tail\n",
    "        self.size = 0\n",
    "        \n",
    "    def size(self): return self.size\n",
    "    def is_empty(self): return self.size == 0\n",
    "    \n",
    "    def insert_before(self, p, item):\n",
    "        t = p.prev\n",
    "        n = self.Node(item, t, p)\n",
    "        p.prev = n\n",
    "        t.next = n\n",
    "        self.size += 1\n",
    "        \n",
    "    def insert_after(self, p, item):\n",
    "        t = p.next\n",
    "        n = self.Node(item, p, t)\n",
    "        t.prev = n\n",
    "        p.next = n\n",
    "        self.size -= 1\n",
    "        \n",
    "    def delete(self, x):\n",
    "        f = x.prev\n",
    "        r = x.next\n",
    "        f.next = r\n",
    "        f.prev = f\n",
    "        self.size -= 1\n",
    "        return x.item\n",
    "    \n",
    "    def print_list(self):\n",
    "        if self.is_empty():\n",
    "            print(\"list is empty\")\n",
    "        else:\n",
    "            p = self.head.next\n",
    "            while p != self.tail:\n",
    "                if p.next != self.tail:\n",
    "                    print(p.item, ' <-> ', end='', sep='')\n",
    "                else:\n",
    "                    print(p.item)\n",
    "                p = p.next\n",
    "    \n",
    "    class EmptyError(Exception):\n",
    "        pass"
   ]
  },
  {
   "cell_type": "markdown",
   "metadata": {},
   "source": [
    "#### 프로그램 2.4"
   ]
  },
  {
   "cell_type": "code",
   "execution_count": 11,
   "metadata": {},
   "outputs": [],
   "source": [
    "from dlist import DList"
   ]
  },
  {
   "cell_type": "code",
   "execution_count": 12,
   "metadata": {},
   "outputs": [],
   "source": [
    "d = DList()"
   ]
  },
  {
   "cell_type": "code",
   "execution_count": 13,
   "metadata": {},
   "outputs": [
    {
     "name": "stdout",
     "output_type": "stream",
     "text": [
      "김밤순\n"
     ]
    }
   ],
   "source": [
    "d.insert_after(d.head, '김밤순')\n",
    "d.print_list()"
   ]
  },
  {
   "cell_type": "code",
   "execution_count": 14,
   "metadata": {},
   "outputs": [
    {
     "name": "stdout",
     "output_type": "stream",
     "text": [
      "김밤순 <-> 김빅순\n"
     ]
    }
   ],
   "source": [
    "d.insert_after(d.head.next, '김빅순')  # d.head.next가 가리키는 '김밤순' 뒤에 '김빅순' 삽입\n",
    "d.print_list()"
   ]
  },
  {
   "cell_type": "code",
   "execution_count": 15,
   "metadata": {},
   "outputs": [
    {
     "name": "stdout",
     "output_type": "stream",
     "text": [
      "떼껄룩 <-> 김밤순 <-> 김빅순\n"
     ]
    }
   ],
   "source": [
    "d.insert_after(d.head, '떼껄룩')  # 맨 앞 dummy node인 head 뒤에 '떼껄룩' 삽입\n",
    "d.print_list()"
   ]
  },
  {
   "cell_type": "code",
   "execution_count": 16,
   "metadata": {},
   "outputs": [
    {
     "name": "stdout",
     "output_type": "stream",
     "text": [
      "김애용 <-> 떼껄룩 <-> 김밤순 <-> 김빅순\n"
     ]
    }
   ],
   "source": [
    "d.insert_before(d.head.next, '김애용')  # d.head.next가 가리키는 '떼껄룩' 앞에 '김애용' 삽입\n",
    "d.print_list()"
   ]
  },
  {
   "cell_type": "code",
   "execution_count": 17,
   "metadata": {},
   "outputs": [
    {
     "name": "stdout",
     "output_type": "stream",
     "text": [
      "김밤순\n"
     ]
    }
   ],
   "source": [
    "print(d.delete(d.tail.prev.prev))  # d.tail.prev.prev가 가리키는 '김밤순' 삭제하고 반환"
   ]
  },
  {
   "cell_type": "markdown",
   "metadata": {},
   "source": [
    "#### 프로그램 2.5"
   ]
  },
  {
   "cell_type": "code",
   "execution_count": 18,
   "metadata": {},
   "outputs": [
    {
     "name": "stdout",
     "output_type": "stream",
     "text": [
      "Overwriting clist.py\n"
     ]
    }
   ],
   "source": [
    "%%writefile clist.py\n",
    "class CList:\n",
    "    \n",
    "    class Node:\n",
    "        def __init__(self, item, link):\n",
    "            self.item = item\n",
    "            self.next = link\n",
    "    \n",
    "    def __init__(self):\n",
    "        self.last = None\n",
    "        self.size = 0\n",
    "    \n",
    "    def no_items(self): return self.size\n",
    "    def is_empty(self): return self.size == 0\n",
    "    \n",
    "    def insert(self, item):  # 맨 앞에 삽입\n",
    "        n = self.Node(item, None)\n",
    "        if self.is_empty():\n",
    "            n.next = n\n",
    "            self.last = n\n",
    "        else:\n",
    "            n.next = self.last.next\n",
    "            self.last.next = n\n",
    "        self.size += 1\n",
    "        \n",
    "    def first(self):\n",
    "        if self.is_empty():\n",
    "            raise EmptyError('Underflow')\n",
    "        f = self.last.next\n",
    "        return f.item\n",
    "    \n",
    "    def delete(self):  # 맨 앞을 삭제\n",
    "        if self.is_empty():\n",
    "            raise EmptyError('Underflow')\n",
    "        x = self.last.next\n",
    "        if self.size == 1:\n",
    "            self.last = None\n",
    "        else:\n",
    "            self.last.next = x.next\n",
    "        self.size -= 1\n",
    "        \n",
    "    def print_list(self):\n",
    "        if self.is_empty():\n",
    "            print('list is empty')\n",
    "        else:\n",
    "            f = self.last.next\n",
    "            p = f\n",
    "            while p.next != f:\n",
    "                print(p.item, ' -> ', end='', sep='')\n",
    "                p = p.next\n",
    "            print(p.item)\n",
    "    \n",
    "    class EmptyError(Exception):\n",
    "        pass"
   ]
  },
  {
   "cell_type": "markdown",
   "metadata": {},
   "source": [
    "#### 프로그램 2.6"
   ]
  },
  {
   "cell_type": "code",
   "execution_count": 19,
   "metadata": {},
   "outputs": [],
   "source": [
    "from clist import CList"
   ]
  },
  {
   "cell_type": "code",
   "execution_count": 20,
   "metadata": {},
   "outputs": [],
   "source": [
    "c = CList()"
   ]
  },
  {
   "cell_type": "code",
   "execution_count": 21,
   "metadata": {},
   "outputs": [
    {
     "name": "stdout",
     "output_type": "stream",
     "text": [
      "이수아 -> 이정환 -> 김빅순 -> 김밤순\n"
     ]
    }
   ],
   "source": [
    "c.insert('김밤순')\n",
    "c.insert('김빅순')\n",
    "c.insert('이정환')\n",
    "c.insert('이수아')\n",
    "c.print_list()"
   ]
  },
  {
   "cell_type": "code",
   "execution_count": 22,
   "metadata": {},
   "outputs": [
    {
     "name": "stdout",
     "output_type": "stream",
     "text": [
      "김밤순\n"
     ]
    }
   ],
   "source": [
    "print(c.last.item)"
   ]
  },
  {
   "cell_type": "code",
   "execution_count": 23,
   "metadata": {},
   "outputs": [
    {
     "name": "stdout",
     "output_type": "stream",
     "text": [
      "이수아\n"
     ]
    }
   ],
   "source": [
    "print(c.first())"
   ]
  },
  {
   "cell_type": "code",
   "execution_count": 24,
   "metadata": {},
   "outputs": [
    {
     "name": "stdout",
     "output_type": "stream",
     "text": [
      "이정환 -> 김빅순 -> 김밤순\n"
     ]
    }
   ],
   "source": [
    "c.delete()\n",
    "c.print_list()"
   ]
  },
  {
   "cell_type": "markdown",
   "metadata": {},
   "source": [
    "#### 연습문제 2.7"
   ]
  },
  {
   "cell_type": "code",
   "execution_count": 25,
   "metadata": {},
   "outputs": [],
   "source": [
    "from slist import SList\n",
    "from random import randint"
   ]
  },
  {
   "cell_type": "code",
   "execution_count": 26,
   "metadata": {},
   "outputs": [],
   "source": [
    "def convert_slist_into_plist(slist):\n",
    "    plist = []\n",
    "    p = slist.head\n",
    "    while p:\n",
    "        plist.append(p.item)\n",
    "        p = p.next\n",
    "    return plist"
   ]
  },
  {
   "cell_type": "code",
   "execution_count": 27,
   "metadata": {},
   "outputs": [],
   "source": [
    "def convert_plist_into_slist(plist):\n",
    "    slist = SList()\n",
    "    for i in range(len(plist)-1, -1, -1):\n",
    "        slist.insert_front(plist[i])\n",
    "    return slist"
   ]
  },
  {
   "cell_type": "code",
   "execution_count": 28,
   "metadata": {},
   "outputs": [],
   "source": [
    "def solution0207(slist1, slist2):\n",
    "    return sorted(convert_slist_into_plist(slist1) + convert_slist_into_plist(slist2))"
   ]
  },
  {
   "cell_type": "code",
   "execution_count": 29,
   "metadata": {},
   "outputs": [],
   "source": [
    "example1 = convert_plist_into_slist(list(randint(10, 99) for i in range(11)))\n",
    "example2 = convert_plist_into_slist(list(randint(10, 99) for i in range(17)))"
   ]
  },
  {
   "cell_type": "code",
   "execution_count": 30,
   "metadata": {},
   "outputs": [
    {
     "name": "stdout",
     "output_type": "stream",
     "text": [
      "89 -> 37 -> 63 -> 35 -> 49 -> 60 -> 42 -> 94 -> 26 -> 48 -> 90\n",
      "42 -> 61 -> 64 -> 38 -> 80 -> 35 -> 34 -> 11 -> 75 -> 69 -> 47 -> 67 -> 45 -> 59 -> 36 -> 12 -> 40\n"
     ]
    }
   ],
   "source": [
    "example1.print_list()\n",
    "example2.print_list()"
   ]
  },
  {
   "cell_type": "code",
   "execution_count": 31,
   "metadata": {},
   "outputs": [
    {
     "name": "stdout",
     "output_type": "stream",
     "text": [
      "[11, 12, 26, 34, 35, 35, 36, 37, 38, 40, 42, 42, 45, 47, 48, 49, 59, 60, 61, 63, 64, 67, 69, 75, 80, 89, 90, 94]\n"
     ]
    }
   ],
   "source": [
    "print(solution0207(example1, example2))"
   ]
  },
  {
   "cell_type": "markdown",
   "metadata": {},
   "source": [
    "#### 연습문제 2.9"
   ]
  },
  {
   "cell_type": "code",
   "execution_count": 32,
   "metadata": {},
   "outputs": [],
   "source": [
    "from slist import SList"
   ]
  },
  {
   "cell_type": "code",
   "execution_count": 33,
   "metadata": {},
   "outputs": [],
   "source": [
    "def solution0209(slist):\n",
    "    answer = SList()\n",
    "    p = slist.head\n",
    "    for k in range(slist.size):\n",
    "        answer.insert_front(p.item)\n",
    "        p = p.next\n",
    "    return answer"
   ]
  },
  {
   "cell_type": "code",
   "execution_count": 34,
   "metadata": {},
   "outputs": [
    {
     "name": "stdout",
     "output_type": "stream",
     "text": [
      "89 -> 37 -> 63 -> 35 -> 49 -> 60 -> 42 -> 94 -> 26 -> 48 -> 90\n",
      "90 -> 48 -> 26 -> 94 -> 42 -> 60 -> 49 -> 35 -> 63 -> 37 -> 89\n"
     ]
    }
   ],
   "source": [
    "example1.print_list()\n",
    "solution0209(example1).print_list()"
   ]
  },
  {
   "cell_type": "markdown",
   "metadata": {},
   "source": [
    "#### 연습문제 2.10"
   ]
  },
  {
   "cell_type": "code",
   "execution_count": 35,
   "metadata": {},
   "outputs": [],
   "source": [
    "def solution0210(slist, k):\n",
    "    answer1, answer2 = SList(), SList()\n",
    "    answer1.insert_front(None); answer2.insert_front(None)\n",
    "    p, h1, h2 = slist.head, answer1.head, answer2.head\n",
    "    for i in range(slist.size):\n",
    "        if p.item <= k:\n",
    "            answer1.insert_after(p.item, h1)\n",
    "            p, h1 = p.next, h1.next\n",
    "        else:\n",
    "            answer2.insert_after(p.item, h2)\n",
    "            p, h2 = p.next, h2.next\n",
    "    answer1.delete_front(); answer2.delete_front()\n",
    "    return answer1, answer2"
   ]
  },
  {
   "cell_type": "code",
   "execution_count": 36,
   "metadata": {},
   "outputs": [
    {
     "name": "stdout",
     "output_type": "stream",
     "text": [
      "89 -> 37 -> 63 -> 35 -> 49 -> 60 -> 42 -> 94 -> 26 -> 48 -> 90\n",
      "37 -> 35 -> 49 -> 42 -> 26 -> 48\n",
      "89 -> 63 -> 60 -> 94 -> 90\n"
     ]
    }
   ],
   "source": [
    "example1.print_list()\n",
    "solution0210(example1, 50)[0].print_list()\n",
    "solution0210(example1, 50)[1].print_list()"
   ]
  },
  {
   "cell_type": "markdown",
   "metadata": {},
   "source": [
    "#### 연습문제 2.11"
   ]
  },
  {
   "cell_type": "code",
   "execution_count": 37,
   "metadata": {},
   "outputs": [],
   "source": [
    "def solution0211(slist1, slist2):\n",
    "    answer = 0\n",
    "    p1 = slist1.head\n",
    "    for i in range(slist1.size):\n",
    "        p2 = slist2.head\n",
    "        for j in range(slist2.size):\n",
    "            if p1.item == p2.item:\n",
    "                answer += p1.item\n",
    "            p2 = p2.next\n",
    "        p1 = p1.next\n",
    "    if answer !=0: return answer\n",
    "    else: return None"
   ]
  },
  {
   "cell_type": "code",
   "execution_count": 38,
   "metadata": {},
   "outputs": [
    {
     "name": "stdout",
     "output_type": "stream",
     "text": [
      "77\n"
     ]
    }
   ],
   "source": [
    "print(solution0211(example1, example2))"
   ]
  },
  {
   "cell_type": "markdown",
   "metadata": {},
   "source": [
    "#### 연습문제 2.12"
   ]
  },
  {
   "cell_type": "code",
   "execution_count": 39,
   "metadata": {},
   "outputs": [],
   "source": [
    "def solution0213(slist):\n",
    "    p = slist.head\n",
    "    for i in range(slist.size//2):\n",
    "        p = p.next\n",
    "    return p.item"
   ]
  },
  {
   "cell_type": "code",
   "execution_count": 40,
   "metadata": {},
   "outputs": [
    {
     "name": "stdout",
     "output_type": "stream",
     "text": [
      "60\n"
     ]
    }
   ],
   "source": [
    "print(solution0213(example1))"
   ]
  },
  {
   "cell_type": "markdown",
   "metadata": {},
   "source": [
    "#### 연습문제 2.15"
   ]
  },
  {
   "cell_type": "code",
   "execution_count": 47,
   "metadata": {},
   "outputs": [],
   "source": [
    "from clist import CList"
   ]
  },
  {
   "cell_type": "code",
   "execution_count": 152,
   "metadata": {},
   "outputs": [],
   "source": [
    "def Josephus(N, M):\n",
    "    if N == 1:\n",
    "        return 1\n",
    "    if M == 1:\n",
    "        return N\n",
    "    c = CList()\n",
    "    for i in range(N, 0, -1):\n",
    "        c.insert(i)\n",
    "    for i in range(N - 1):\n",
    "        x = c.last\n",
    "        for j in range(M - 1):\n",
    "            x = x.next\n",
    "        c.last = x\n",
    "        c.last.next = c.last.next.next\n",
    "        c.print_list()"
   ]
  },
  {
   "cell_type": "code",
   "execution_count": 153,
   "metadata": {
    "scrolled": true
   },
   "outputs": [
    {
     "name": "stdout",
     "output_type": "stream",
     "text": [
      "3 -> 4 -> 5 -> 6 -> 1\n",
      "5 -> 6 -> 1 -> 3\n",
      "1 -> 3 -> 5\n",
      "5 -> 1\n",
      "5\n"
     ]
    }
   ],
   "source": [
    "Josephus(6, 2)"
   ]
  },
  {
   "cell_type": "code",
   "execution_count": 155,
   "metadata": {},
   "outputs": [
    {
     "name": "stdout",
     "output_type": "stream",
     "text": [
      "4 -> 5 -> 6 -> 7 -> 8 -> 9 -> 10 -> 1 -> 2\n",
      "7 -> 8 -> 9 -> 10 -> 1 -> 2 -> 4 -> 5\n",
      "10 -> 1 -> 2 -> 4 -> 5 -> 7 -> 8\n",
      "4 -> 5 -> 7 -> 8 -> 10 -> 1\n",
      "8 -> 10 -> 1 -> 4 -> 5\n",
      "4 -> 5 -> 8 -> 10\n",
      "10 -> 4 -> 5\n",
      "10 -> 4\n",
      "4\n"
     ]
    }
   ],
   "source": [
    "Josephus(10, 3)"
   ]
  },
  {
   "cell_type": "markdown",
   "metadata": {},
   "source": [
    "#### 연습문제 2.16"
   ]
  },
  {
   "cell_type": "code",
   "execution_count": 41,
   "metadata": {},
   "outputs": [],
   "source": [
    "def solution0216(a, k):\n",
    "    answer1, answer2 = [], []\n",
    "    for i in range(len(a)):\n",
    "        if a[i] <= k:\n",
    "            answer1.append(a[i])\n",
    "        else:\n",
    "            answer2.append(a[i])\n",
    "    return answer1, answer2"
   ]
  },
  {
   "cell_type": "markdown",
   "metadata": {},
   "source": [
    "#### 연습문제 2.18"
   ]
  },
  {
   "cell_type": "code",
   "execution_count": 42,
   "metadata": {},
   "outputs": [],
   "source": [
    "def solution0218(a):\n",
    "    N, answer = len(a), 0\n",
    "    for i in range(N):\n",
    "        answer += a[i]\n",
    "    return answer - int(N*(N-1)/2)"
   ]
  },
  {
   "cell_type": "markdown",
   "metadata": {},
   "source": [
    "#### 연습문제 2.19"
   ]
  },
  {
   "cell_type": "code",
   "execution_count": 43,
   "metadata": {},
   "outputs": [],
   "source": [
    "def solution0219(a):\n",
    "    N, answer = len(a), 0\n",
    "    for i in range(N-1):\n",
    "        answer += a[i]\n",
    "    return int((N+1)*N/2) - answer"
   ]
  },
  {
   "cell_type": "markdown",
   "metadata": {},
   "source": [
    "#### 연습문제 2.20"
   ]
  },
  {
   "cell_type": "code",
   "execution_count": 44,
   "metadata": {},
   "outputs": [],
   "source": [
    "import math"
   ]
  },
  {
   "cell_type": "code",
   "execution_count": 45,
   "metadata": {},
   "outputs": [],
   "source": [
    "def solution0220(a):\n",
    "    N, add, mult = len(a)+2, 0, 1\n",
    "    for i in range(N - 2):\n",
    "        add += a[i]; mult *= a[i]\n",
    "    add, mult = int((N + 1)*N/2 - add), int(math.factorial(N)/mult)\n",
    "    return int((add - math.sqrt(add**2 - 4*mult))/2), int((add + math.sqrt(add**2 - 4*mult))/2)"
   ]
  },
  {
   "cell_type": "markdown",
   "metadata": {},
   "source": [
    "#### 연습문제 2.21"
   ]
  },
  {
   "cell_type": "code",
   "execution_count": 46,
   "metadata": {},
   "outputs": [],
   "source": [
    "def solution0221(a):\n",
    "    counts = {}\n",
    "    for i in range(len(a)):\n",
    "        counts[a[i]] = counts.get(a[i], 0) + 1\n",
    "    for key in counts.keys():\n",
    "        if counts[key] == 1:\n",
    "            return key"
   ]
  },
  {
   "cell_type": "markdown",
   "metadata": {},
   "source": [
    "#### 연습문제 2.22"
   ]
  },
  {
   "cell_type": "code",
   "execution_count": 156,
   "metadata": {},
   "outputs": [],
   "source": [
    "def solution0222(a):\n",
    "    counts = {}\n",
    "    for i in range(len(a)):\n",
    "        counts[a[i]] = counts.get(a[i], 0) + 1\n",
    "    for key, value in counts.items():\n",
    "        if value > len(a)//2:\n",
    "            return key\n",
    "        else:\n",
    "            return None"
   ]
  },
  {
   "cell_type": "code",
   "execution_count": 160,
   "metadata": {},
   "outputs": [
    {
     "name": "stdout",
     "output_type": "stream",
     "text": [
      "3\n"
     ]
    }
   ],
   "source": [
    "print(solution0222([3, 1, 3, 2, 3]))"
   ]
  },
  {
   "cell_type": "code",
   "execution_count": 161,
   "metadata": {},
   "outputs": [
    {
     "name": "stdout",
     "output_type": "stream",
     "text": [
      "None\n"
     ]
    }
   ],
   "source": [
    "print(solution0222([3, 1, 3, 2]))"
   ]
  }
 ],
 "metadata": {
  "kernelspec": {
   "display_name": "Python 3",
   "language": "python",
   "name": "python3"
  },
  "language_info": {
   "codemirror_mode": {
    "name": "ipython",
    "version": 3
   },
   "file_extension": ".py",
   "mimetype": "text/x-python",
   "name": "python",
   "nbconvert_exporter": "python",
   "pygments_lexer": "ipython3",
   "version": "3.7.3"
  }
 },
 "nbformat": 4,
 "nbformat_minor": 2
}
