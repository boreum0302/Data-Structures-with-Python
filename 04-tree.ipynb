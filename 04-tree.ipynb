{
 "cells": [
  {
   "cell_type": "markdown",
   "metadata": {},
   "source": [
    "# Programs"
   ]
  },
  {
   "cell_type": "markdown",
   "metadata": {},
   "source": [
    "#### 4.1 BinaryTree"
   ]
  },
  {
   "cell_type": "code",
   "execution_count": 1,
   "metadata": {},
   "outputs": [],
   "source": [
    "class Node:\n",
    "    def __init__(self, item, left=None, right=None):\n",
    "        self.item = item\n",
    "        self.left = left  # 왼쪽 아래에 달린 자식을 가리킴\n",
    "        self.right = right  # 오른쪽 아래에 달린 자식을 가리킴\n",
    "\n",
    "class BinaryTree:\n",
    "        \n",
    "    class EmptyError(Exception):\n",
    "        pass\n",
    "    \n",
    "    def __init__(self):\n",
    "        self.root = None\n",
    "        \n",
    "    def preorder(self, node):  # 전위순회(Node -> Left -> Right)\n",
    "        if node != None:\n",
    "            print(str(node.item), end=' ')\n",
    "            if node.left:\n",
    "                self.preorder(node.left)\n",
    "            if node.right:\n",
    "                self.preorder(node.right)\n",
    "            \n",
    "    def postorder(self, node): # 후위순회(Left -> Right -> Node)\n",
    "        if node != None:\n",
    "            if node.left:\n",
    "                self.postorder(node.left)\n",
    "            if node.right:\n",
    "                self.postorder(node.right)\n",
    "            print(str(node.item), end=' ')\n",
    "    \n",
    "    def inorder(self, node): # 중위순회(Left -> Node -> Right)\n",
    "        if node != None:\n",
    "            if node.left:\n",
    "                self.inorder(node.left)\n",
    "            print(str(node.item), end=' ')\n",
    "            if node.right:\n",
    "                self.inorder(node.right)\n",
    "                \n",
    "    def levelorder(self, node):  # 최상위 레벨부터 시작하여 각 레벨마다 왼쪽에서 오른쪽으로 노드를 방문함\n",
    "        if node == None:\n",
    "            return\n",
    "        q = [node]\n",
    "        while len(q) > 0:\n",
    "            new_node = q.pop(0)\n",
    "            print(new_node.item, end=' ')\n",
    "            if new_node.left != None:\n",
    "                q.append(new_node.left)\n",
    "            if new_node.right != None:\n",
    "                q.append(new_node.right)\n",
    "                   \n",
    "    def height(self, node):\n",
    "        if node == None:\n",
    "            return 0\n",
    "        return max(self.height(node.left), self.height(node.right)) + 1\n",
    "    \n",
    "    def copy(self, n):  # 연습문제 4.27\n",
    "        \n",
    "        if n == None:\n",
    "            return\n",
    "        \n",
    "        nodes, coppied_nodes, q = [], [], [n]\n",
    "        while len(q) > 0:\n",
    "            node = q.pop(0)\n",
    "            nodes.append(node)\n",
    "            coppied_nodes.append(Node(node.item))\n",
    "            if node.left != None:\n",
    "                q.append(node.left)\n",
    "            if node.right != None:\n",
    "                q.append(node.right)\n",
    "        \n",
    "        for i in range(len(nodes)):  # O(N^2)\n",
    "            index_left, index_right = None, None\n",
    "            for j in range(len(nodes)):\n",
    "                if nodes[i].left == nodes[j]:\n",
    "                    index_left = j\n",
    "                if nodes[i].right == nodes[j]:\n",
    "                    index_right = j\n",
    "            if index_left != None:\n",
    "                coppied_nodes[i].left = coppied_nodes[index_left]\n",
    "            if index_right != None:\n",
    "                coppied_nodes[i].right = coppied_nodes[index_right]\n",
    "        \n",
    "        coppied_tree = BinaryTree()\n",
    "        coppied_tree.root = coppied_nodes[0]\n",
    "        \n",
    "        return coppied_tree\n",
    "    \n",
    "    def is_same(self, my_root, other_root):  # 연습문제 4.18\n",
    "        if my_root == None or other_root == None:\n",
    "            return my_root == other_root\n",
    "        if my_root.item != other_root.item:\n",
    "            return False\n",
    "        return self.is_same(my_root.left, other_root.left) and self.is_same(my_root.right, other_root.right)"
   ]
  },
  {
   "cell_type": "code",
   "execution_count": 2,
   "metadata": {},
   "outputs": [],
   "source": [
    "tree = BinaryTree()\n",
    "n1 = Node(1)\n",
    "n2 = Node(2)\n",
    "n3 = Node(3)\n",
    "n4 = Node(4)\n",
    "n5 = Node(5)\n",
    "n6 = Node(6)\n",
    "n7 = Node(7)\n",
    "n8 = Node(8)\n",
    "n1.left = n2\n",
    "n1.right = n3\n",
    "n2.left = n4\n",
    "n2.right = n5\n",
    "n3.left = n6\n",
    "n3.right = n7\n",
    "n4.left = n8\n",
    "tree.root = n1"
   ]
  },
  {
   "cell_type": "code",
   "execution_count": 3,
   "metadata": {},
   "outputs": [],
   "source": [
    "tree2 = tree.copy(tree.root)"
   ]
  },
  {
   "cell_type": "code",
   "execution_count": 4,
   "metadata": {},
   "outputs": [
    {
     "name": "stdout",
     "output_type": "stream",
     "text": [
      "False\n"
     ]
    }
   ],
   "source": [
    "print(tree == tree2)"
   ]
  },
  {
   "cell_type": "code",
   "execution_count": 5,
   "metadata": {},
   "outputs": [
    {
     "name": "stdout",
     "output_type": "stream",
     "text": [
      "True\n"
     ]
    }
   ],
   "source": [
    "print(tree.is_same(tree.root, tree2.root))"
   ]
  },
  {
   "cell_type": "markdown",
   "metadata": {},
   "source": [
    "#### 4.3 BinaryHeap"
   ]
  },
  {
   "cell_type": "code",
   "execution_count": 6,
   "metadata": {},
   "outputs": [],
   "source": [
    "class BHeap:\n",
    "    \n",
    "    def __init__(self, a):\n",
    "        self.a = a\n",
    "        self.N = len(a) - 1\n",
    "    \n",
    "    def downheap(self, i):\n",
    "        while 2 * i <= self.N:\n",
    "            k = 2 * i\n",
    "            if k < self.N and self.a[k] > self.a[k + 1]:\n",
    "                k += 1\n",
    "            if self.a[i] < self.a[k]:\n",
    "                break\n",
    "            self.a[i], self.a[k] = self.a[k], self.a[i]\n",
    "            i = k\n",
    "    \n",
    "    def upheap(self, j):\n",
    "        while j > 1 and self.a[j//2] > self.a[j]:\n",
    "            self.a[j], self.a[j//2] = self.a[j//2], self.a[j]\n",
    "            j = j//2\n",
    "            \n",
    "    def create_heap(self):  # heapq.heapify()\n",
    "        for i in range(self.N//2, 0, -1):\n",
    "            self.downheap(i)\n",
    "            \n",
    "    def insert(self, key_value):  # heapq.heappush()\n",
    "        self.N += 1\n",
    "        self.a.append(key_value)\n",
    "        self.upheap(self.N)\n",
    "        \n",
    "    def delete_min(self):  # heapq.heappop()\n",
    "        if self.N == 0:\n",
    "            raise EmptyError('Underflow')\n",
    "        else:\n",
    "            minimum = self.a[1]\n",
    "            self.a[1], self.a[-1] = self.a[-1], self.a[1]\n",
    "            del self.a[-1]\n",
    "            self.N -= 1\n",
    "            self.downheap(1)\n",
    "            return minimum\n",
    "        \n",
    "    def print_heap(self):\n",
    "        print(self.a[1:])"
   ]
  }
 ],
 "metadata": {
  "kernelspec": {
   "display_name": "Python 3",
   "language": "python",
   "name": "python3"
  },
  "language_info": {
   "codemirror_mode": {
    "name": "ipython",
    "version": 3
   },
   "file_extension": ".py",
   "mimetype": "text/x-python",
   "name": "python",
   "nbconvert_exporter": "python",
   "pygments_lexer": "ipython3",
   "version": "3.7.6"
  }
 },
 "nbformat": 4,
 "nbformat_minor": 4
}
