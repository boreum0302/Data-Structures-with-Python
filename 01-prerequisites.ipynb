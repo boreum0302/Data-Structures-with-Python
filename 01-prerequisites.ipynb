{
 "cells": [
  {
   "cell_type": "markdown",
   "metadata": {},
   "source": [
    "# Programs"
   ]
  },
  {
   "cell_type": "markdown",
   "metadata": {},
   "source": [
    "#### 1.1"
   ]
  },
  {
   "cell_type": "code",
   "execution_count": 1,
   "metadata": {},
   "outputs": [],
   "source": [
    "class Student:\n",
    "    def __init__(self, name, id):  # Student 객체 생성자\n",
    "        self.name = name  # 인스턴스 변수\n",
    "        self.id = id\n",
    "    def get_name(self):  # 객체의 name을 리턴하는 메소드\n",
    "        return self.name\n",
    "    def get_id(self):  # 객체의 id를 리턴하는 메소드\n",
    "        return self.id"
   ]
  },
  {
   "cell_type": "code",
   "execution_count": 2,
   "metadata": {},
   "outputs": [
    {
     "name": "stdout",
     "output_type": "stream",
     "text": [
      "Lee\n",
      "101\n"
     ]
    }
   ],
   "source": [
    "best = Student(\"Lee\", 101)\n",
    "print(best.get_name())  # best 학생의 name 출력\n",
    "print(best.get_id())  # best 학생의 id 출력"
   ]
  },
  {
   "cell_type": "markdown",
   "metadata": {},
   "source": [
    "#### 1.3"
   ]
  },
  {
   "cell_type": "code",
   "execution_count": 3,
   "metadata": {},
   "outputs": [],
   "source": [
    "import random, time  # random, time 모듈 불러오기\n",
    "random.seed(time.time())  # 난수 생성을 위한 초기값을 현재 시각으로 설정\n",
    "a = []\n",
    "for i in range(100):\n",
    "    a.append(random.randint(1, 1000))  # 1에서 1000 사이의 난수 1개를 생성하여 a에 추가함"
   ]
  },
  {
   "cell_type": "markdown",
   "metadata": {},
   "source": [
    "#### 1.4"
   ]
  },
  {
   "cell_type": "code",
   "execution_count": 4,
   "metadata": {},
   "outputs": [
    {
     "name": "stdout",
     "output_type": "stream",
     "text": [
      "[4, 6, 8, 12]\n",
      "[10, 50, 40, 60, 80, 110, 30, 120]\n",
      "[[7, 2, 2], [1, 4, 5], [0, 1, 8], [5, 3, 10]]\n"
     ]
    }
   ],
   "source": [
    "a = [1, 5, 4, 6, 8, 11, 3, 12]\n",
    "even = list(filter(lambda x: x%2 == 0, a))\n",
    "print(even)\n",
    "ten_times = list(map(lambda x: x * 10, a))\n",
    "print(ten_times)\n",
    "b = [[0, 1, 8], [7, 2, 2], [5, 3, 10], [1, 4, 5]]\n",
    "b.sort(key = lambda x: x[2])\n",
    "print(b)"
   ]
  },
  {
   "cell_type": "markdown",
   "metadata": {},
   "source": [
    "#### 1.5"
   ]
  },
  {
   "cell_type": "code",
   "execution_count": 5,
   "metadata": {
    "scrolled": false
   },
   "outputs": [
    {
     "name": "stdout",
     "output_type": "stream",
     "text": [
      "A 코스: \n",
      "H → F → U → N → E → A → T → S → Z → K → Y → \n",
      "\n",
      "B 코스: \n",
      "F → U → N → E → A → T → H → S → Z → K → Y → \n",
      "\n",
      "C 코스: \n",
      "F → U → N → E → A → T → S → Z → K → Y → H → "
     ]
    }
   ],
   "source": [
    "class Node:\n",
    "    def __init__(self, name, left=None, right=None):\n",
    "        self.name = name\n",
    "        self.left = left\n",
    "        self.right = right\n",
    "        \n",
    "def map():\n",
    "    n1 = Node(\"H\")\n",
    "    n2 = Node(\"F\")\n",
    "    n3 = Node(\"S\")\n",
    "    n4 = Node(\"U\")\n",
    "    n5 = Node(\"E\")\n",
    "    n6 = Node(\"Z\")\n",
    "    n7 = Node(\"K\")\n",
    "    n8 = Node(\"N\")\n",
    "    n9 = Node(\"A\")\n",
    "    n10 = Node(\"Y\")\n",
    "    n11 = Node(\"T\")\n",
    "    n1.left = n2\n",
    "    n1.right = n3\n",
    "    n2.left = n4\n",
    "    n2.right = n5\n",
    "    n3.left = n6\n",
    "    n3.right = n7\n",
    "    n4.left = n8\n",
    "    n5.left = n9\n",
    "    n7.right = n10\n",
    "    n9.right = n11\n",
    "    return n1\n",
    "\n",
    "def A_course(n):\n",
    "    if n != None:\n",
    "        print(n.name, \"→ \", end=\"\")\n",
    "        A_course(n.left)\n",
    "        A_course(n.right)\n",
    "        \n",
    "def B_course(n):\n",
    "    if n != None:\n",
    "        A_course(n.left)\n",
    "        print(n.name, \"→ \", end=\"\")\n",
    "        A_course(n.right)\n",
    "\n",
    "def C_course(n):\n",
    "    if n != None:\n",
    "        A_course(n.left)\n",
    "        A_course(n.right)\n",
    "        print(n.name, \"→ \", end=\"\")\n",
    "        \n",
    "start = map()\n",
    "\n",
    "print(\"A 코스: \")\n",
    "A_course(start)\n",
    "print(\"\\n\")\n",
    "\n",
    "print(\"B 코스: \")\n",
    "B_course(start)\n",
    "print(\"\\n\")\n",
    "\n",
    "print(\"C 코스: \")\n",
    "C_course(start)"
   ]
  },
  {
   "cell_type": "markdown",
   "metadata": {},
   "source": [
    "# Exercises"
   ]
  },
  {
   "cell_type": "markdown",
   "metadata": {},
   "source": [
    "#### 1.18"
   ]
  },
  {
   "cell_type": "code",
   "execution_count": 6,
   "metadata": {},
   "outputs": [],
   "source": [
    "def f(N):\n",
    "    print(N, end=\" \")\n",
    "    if N > 0:\n",
    "        f(N - 1)"
   ]
  },
  {
   "cell_type": "code",
   "execution_count": 7,
   "metadata": {},
   "outputs": [
    {
     "name": "stdout",
     "output_type": "stream",
     "text": [
      "4 3 2 1 0 "
     ]
    }
   ],
   "source": [
    "f(4)"
   ]
  },
  {
   "cell_type": "markdown",
   "metadata": {},
   "source": [
    "#### 1.19"
   ]
  },
  {
   "cell_type": "code",
   "execution_count": 8,
   "metadata": {},
   "outputs": [],
   "source": [
    "def g(N):\n",
    "    if N > 0:\n",
    "        g(N - 1)\n",
    "    print(N, end=\" \")"
   ]
  },
  {
   "cell_type": "code",
   "execution_count": 9,
   "metadata": {},
   "outputs": [
    {
     "name": "stdout",
     "output_type": "stream",
     "text": [
      "0 1 2 3 4 "
     ]
    }
   ],
   "source": [
    "g(4)"
   ]
  },
  {
   "cell_type": "markdown",
   "metadata": {},
   "source": [
    "#### 1.20"
   ]
  },
  {
   "cell_type": "code",
   "execution_count": 10,
   "metadata": {},
   "outputs": [],
   "source": [
    "def h(N):\n",
    "    print(N)\n",
    "    if N > 0:\n",
    "        h(N - 2)\n",
    "    print(N, end=\" \")"
   ]
  },
  {
   "cell_type": "code",
   "execution_count": 11,
   "metadata": {},
   "outputs": [
    {
     "name": "stdout",
     "output_type": "stream",
     "text": [
      "4\n",
      "2\n",
      "0\n",
      "0 2 4 "
     ]
    }
   ],
   "source": [
    "h(4)"
   ]
  },
  {
   "cell_type": "markdown",
   "metadata": {},
   "source": [
    "#### 1.21"
   ]
  },
  {
   "cell_type": "code",
   "execution_count": 12,
   "metadata": {},
   "outputs": [],
   "source": [
    "def h(N):\n",
    "    if N > 0:\n",
    "        h(N - 1)\n",
    "    print(N, end=\" \")"
   ]
  },
  {
   "cell_type": "code",
   "execution_count": 13,
   "metadata": {},
   "outputs": [
    {
     "name": "stdout",
     "output_type": "stream",
     "text": [
      "0 1 2 3 4 "
     ]
    }
   ],
   "source": [
    "h(4)"
   ]
  },
  {
   "cell_type": "markdown",
   "metadata": {},
   "source": [
    "#### 1.22"
   ]
  },
  {
   "cell_type": "code",
   "execution_count": 14,
   "metadata": {},
   "outputs": [],
   "source": [
    "def abc(N):\n",
    "    r = N % 2\n",
    "    print(\"*\", end=\" \")\n",
    "    if N >= 2:\n",
    "        abc(N//2)\n",
    "    print(\"%d\" % r, end = \" \")\n",
    "    return"
   ]
  },
  {
   "cell_type": "code",
   "execution_count": 15,
   "metadata": {},
   "outputs": [
    {
     "name": "stdout",
     "output_type": "stream",
     "text": [
      "* * * * * * * 1 0 0 1 1 1 0 "
     ]
    }
   ],
   "source": [
    "abc(78)"
   ]
  },
  {
   "cell_type": "markdown",
   "metadata": {},
   "source": [
    "#### 1.23"
   ]
  },
  {
   "cell_type": "code",
   "execution_count": 16,
   "metadata": {},
   "outputs": [],
   "source": [
    "def test(s, last):\n",
    "    if last < 0:\n",
    "        return 0\n",
    "    if s[-1] == \"0\":\n",
    "        return 2 * test(s, last - 1)\n",
    "    return 1 + 2 * test(s, last - 1)"
   ]
  },
  {
   "cell_type": "code",
   "execution_count": 17,
   "metadata": {},
   "outputs": [
    {
     "name": "stdout",
     "output_type": "stream",
     "text": [
      "31\n"
     ]
    }
   ],
   "source": [
    "print(test(\"110100111\", 4))"
   ]
  },
  {
   "cell_type": "markdown",
   "metadata": {},
   "source": [
    "#### 1.24"
   ]
  },
  {
   "cell_type": "code",
   "execution_count": 18,
   "metadata": {},
   "outputs": [],
   "source": [
    "def t(N):\n",
    "    if N > 0:\n",
    "        t(N//2)\n",
    "        print(N % 2, end=\" \")"
   ]
  },
  {
   "cell_type": "code",
   "execution_count": 19,
   "metadata": {},
   "outputs": [
    {
     "name": "stdout",
     "output_type": "stream",
     "text": [
      "1 1 0 0 1 0 0 "
     ]
    }
   ],
   "source": [
    "t(100)"
   ]
  },
  {
   "cell_type": "markdown",
   "metadata": {},
   "source": [
    "#### 1.25"
   ]
  },
  {
   "cell_type": "code",
   "execution_count": 20,
   "metadata": {},
   "outputs": [],
   "source": [
    "def power(x, m):\n",
    "    if m <= 0:\n",
    "        return 1\n",
    "    return x * power(x, m - 1)"
   ]
  },
  {
   "cell_type": "code",
   "execution_count": 21,
   "metadata": {
    "scrolled": true
   },
   "outputs": [
    {
     "name": "stdout",
     "output_type": "stream",
     "text": [
      "343\n"
     ]
    }
   ],
   "source": [
    "print(power(7, 3))"
   ]
  }
 ],
 "metadata": {
  "kernelspec": {
   "display_name": "Python 3",
   "language": "python",
   "name": "python3"
  },
  "language_info": {
   "codemirror_mode": {
    "name": "ipython",
    "version": 3
   },
   "file_extension": ".py",
   "mimetype": "text/x-python",
   "name": "python",
   "nbconvert_exporter": "python",
   "pygments_lexer": "ipython3",
   "version": "3.7.6"
  }
 },
 "nbformat": 4,
 "nbformat_minor": 2
}
