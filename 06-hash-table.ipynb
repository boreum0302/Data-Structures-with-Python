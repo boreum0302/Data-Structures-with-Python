{
 "cells": [
  {
   "cell_type": "markdown",
   "metadata": {},
   "source": [
    "# Open Addressing"
   ]
  },
  {
   "cell_type": "markdown",
   "metadata": {},
   "source": [
    "#### Linear Probing"
   ]
  },
  {
   "cell_type": "code",
   "execution_count": 1,
   "metadata": {},
   "outputs": [],
   "source": [
    "class LinearProbing:\n",
    "    \n",
    "    def __init__(self, size):\n",
    "        self.size = size  # 해시테이블의 크기\n",
    "        self.a = [None] * size  # 키값을 저장하는 리스트; 해시값을 index로 사용함\n",
    "        self.d = [None] * size  # 항목을 저장하는 리스트; 해시값을 index로 사용함\n",
    "    \n",
    "    def hash(self, key):  # 해시함수; 키값을 해시값으로 바꿔줌\n",
    "        return key % self.size\n",
    "    \n",
    "    def put(self, key, data):  # 임의의 키값을 가지는 항목 삽입하기\n",
    "        initial_position = self.hash(key)\n",
    "        i = initial_position\n",
    "        while True:\n",
    "            if self.a[i] == None:\n",
    "                self.a[i] = key\n",
    "                self.d[i] = data\n",
    "                return\n",
    "            if self.a[i] == key:\n",
    "                self.d[i] = data\n",
    "                return\n",
    "            i = (i + 1) % self.size\n",
    "            if i == initial_position:  # 해시테이블을 한 바퀴 다 돌았는데 빈 자리가 없는 경우; 삽입 실패\n",
    "                break\n",
    "                \n",
    "    def get(self, key):  # 임의의 키값을 가지는 항목 반환하기\n",
    "        initial_position = self.hash(key)\n",
    "        i = initial_position\n",
    "        while True:\n",
    "            if self.a[i] == key:\n",
    "                return self.d[i]\n",
    "            i = (i + 1) % self.size\n",
    "            if i == initial_position:  # 해시테이블을 한 바퀴 다 돌았는데 키값을 찾지 못한 경우; 탐색 실패\n",
    "                return None\n",
    "        return None\n",
    "    \n",
    "    def print_table(self):\n",
    "        for i in range(self.size):  # 해시값 출력하기\n",
    "            print('{:4}'.format(str(i)), ' ', end='')\n",
    "        print()\n",
    "        for i in range(self.size):  # 키값 출력하기\n",
    "            print('{:4}'.format(str(self.a[i])), ' ', end='')\n",
    "        print()\n",
    "        for i in range(self.size):  # 항목 출력하기\n",
    "            print('{:4}'.format(str(self.d[i])), ' ', end='')"
   ]
  },
  {
   "cell_type": "code",
   "execution_count": 2,
   "metadata": {},
   "outputs": [],
   "source": [
    "t = LinearProbing(13)"
   ]
  },
  {
   "cell_type": "code",
   "execution_count": 3,
   "metadata": {},
   "outputs": [],
   "source": [
    "t.put(25, 'A')\n",
    "t.put(37, 'B')\n",
    "t.put(18, 'C')\n",
    "t.put(55, 'D')\n",
    "t.put(22, 'E')\n",
    "t.put(35, 'F')\n",
    "t.put(50, 'G')\n",
    "t.put(63, 'H')"
   ]
  },
  {
   "cell_type": "code",
   "execution_count": 4,
   "metadata": {},
   "outputs": [
    {
     "name": "stdout",
     "output_type": "stream",
     "text": [
      "0     1     2     3     4     5     6     7     8     9     10    11    12    \n",
      "50    63    None  55    None  18    None  None  None  22    35    37    25    \n",
      "G     H     None  D     None  C     None  None  None  E     F     B     A     "
     ]
    }
   ],
   "source": [
    "t.print_table()"
   ]
  },
  {
   "cell_type": "code",
   "execution_count": 5,
   "metadata": {},
   "outputs": [
    {
     "name": "stdout",
     "output_type": "stream",
     "text": [
      "D\n"
     ]
    }
   ],
   "source": [
    "print(t.get(55))"
   ]
  },
  {
   "cell_type": "code",
   "execution_count": 6,
   "metadata": {},
   "outputs": [
    {
     "name": "stdout",
     "output_type": "stream",
     "text": [
      "None\n"
     ]
    }
   ],
   "source": [
    "print(t.get(0))"
   ]
  },
  {
   "cell_type": "markdown",
   "metadata": {},
   "source": [
    "#### Quadratic Probing"
   ]
  },
  {
   "cell_type": "code",
   "execution_count": 7,
   "metadata": {},
   "outputs": [],
   "source": [
    "class QuadProbing:\n",
    "    \n",
    "    def __init__(self, size):\n",
    "        self.size = size  # 해시테이블의 크기\n",
    "        self.a = [None] * size  # 키값을 저장하는 리스트; 해시값을 index로 사용함\n",
    "        self.d = [None] * size  # 항목을 저장하는 리스트; 해시값을 index로 사용함\n",
    "        self.N = 0  # 항목의 개수\n",
    "    \n",
    "    def hash(self, key):  # 해시함수; 키값을 해시값으로 바꿔줌\n",
    "        return key % self.size\n",
    "    \n",
    "    def put(self, key, data):  # 임의의 키값을 가지는 항목 삽입하기\n",
    "        initial_position = self.hash(key)\n",
    "        i, j = initial_position, 1\n",
    "        while True:\n",
    "            if self.a[i] == None:\n",
    "                self.a[i] = key\n",
    "                self.d[i] = data\n",
    "                self.N += 1\n",
    "                return\n",
    "            if self.a[i] == key:\n",
    "                self.d[i] = data\n",
    "                return\n",
    "            i = (initial_position + j**2) % self.size\n",
    "            j += 1\n",
    "            if self.N > self.size:  # 항목이 테이블 크기보다 큰 경우; 삽입 실패\n",
    "                break\n",
    "                \n",
    "    def get(self, key):  # 임의의 키값을 가지는 항목 반환하기\n",
    "        initial_position = self.hash(key)\n",
    "        i, j = initial_position, 1\n",
    "        while True:\n",
    "            if self.a[i] == key:\n",
    "                return self.d[i]\n",
    "            i = (initial_position + j**2) % self.size\n",
    "            j += 1\n",
    "        return None\n",
    "    \n",
    "    def print_table(self):\n",
    "        for i in range(self.size):  # 해시값 출력하기\n",
    "            print('{:4}'.format(str(i)), ' ', end='')\n",
    "        print()\n",
    "        for i in range(self.size):  # 키값 출력하기\n",
    "            print('{:4}'.format(str(self.a[i])), ' ', end='')\n",
    "        print()\n",
    "        for i in range(self.size):  # 항목 출력하기\n",
    "            print('{:4}'.format(str(self.d[i])), ' ', end='')"
   ]
  },
  {
   "cell_type": "code",
   "execution_count": 8,
   "metadata": {},
   "outputs": [],
   "source": [
    "t = QuadProbing(13)"
   ]
  },
  {
   "cell_type": "code",
   "execution_count": 9,
   "metadata": {},
   "outputs": [],
   "source": [
    "t.put(25, 'A')\n",
    "t.put(37, 'B')\n",
    "t.put(18, 'C')\n",
    "t.put(55, 'D')\n",
    "t.put(22, 'E')\n",
    "t.put(35, 'F')\n",
    "t.put(50, 'G')\n",
    "t.put(63, 'H')"
   ]
  },
  {
   "cell_type": "code",
   "execution_count": 10,
   "metadata": {},
   "outputs": [
    {
     "name": "stdout",
     "output_type": "stream",
     "text": [
      "0     1     2     3     4     5     6     7     8     9     10    11    12    \n",
      "None  None  50    55    None  18    None  63    None  22    35    37    25    \n",
      "None  None  G     D     None  C     None  H     None  E     F     B     A     "
     ]
    }
   ],
   "source": [
    "t.print_table()"
   ]
  },
  {
   "cell_type": "code",
   "execution_count": 11,
   "metadata": {},
   "outputs": [
    {
     "name": "stdout",
     "output_type": "stream",
     "text": [
      "D\n"
     ]
    }
   ],
   "source": [
    "print(t.get(55))"
   ]
  }
 ],
 "metadata": {
  "kernelspec": {
   "display_name": "Python 3",
   "language": "python",
   "name": "python3"
  },
  "language_info": {
   "codemirror_mode": {
    "name": "ipython",
    "version": 3
   },
   "file_extension": ".py",
   "mimetype": "text/x-python",
   "name": "python",
   "nbconvert_exporter": "python",
   "pygments_lexer": "ipython3",
   "version": "3.7.6"
  }
 },
 "nbformat": 4,
 "nbformat_minor": 4
}
