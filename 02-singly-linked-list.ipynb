{
 "cells": [
  {
   "cell_type": "markdown",
   "metadata": {},
   "source": [
    "# Programs"
   ]
  },
  {
   "cell_type": "markdown",
   "metadata": {},
   "source": [
    "https://wikidocs.net/2836"
   ]
  },
  {
   "cell_type": "code",
   "execution_count": 1,
   "metadata": {},
   "outputs": [],
   "source": [
    "x = 100  # 변수 x는 메모리 어딘가에 위치한 객체인 100을 가리킴"
   ]
  },
  {
   "cell_type": "code",
   "execution_count": 2,
   "metadata": {},
   "outputs": [
    {
     "name": "stdout",
     "output_type": "stream",
     "text": [
      "140725213179376\n"
     ]
    }
   ],
   "source": [
    "print(id(x))  # 메모리에 할당된 객체 100의 위치, 즉 레퍼런스"
   ]
  },
  {
   "cell_type": "markdown",
   "metadata": {},
   "source": [
    "#### 2.1 Singly Linked List"
   ]
  },
  {
   "cell_type": "code",
   "execution_count": 3,
   "metadata": {},
   "outputs": [],
   "source": [
    "class SList:\n",
    " \n",
    "    class EmptyError(Exception):\n",
    "        pass\n",
    "    \n",
    "    class Node:\n",
    "        def __init__(self, item, next):\n",
    "            self.item = item\n",
    "            self.next = next\n",
    "            \n",
    "    def __init__(self):\n",
    "        self.head = None\n",
    "        self.size = 0\n",
    "        \n",
    "    def size(self): return self.size\n",
    "    def is_empty(self): return self.size == 0\n",
    "    \n",
    "    # item을 항목으로 가지는 노드를 맨 앞에 삽입하기\n",
    "    def insert_front(self, item):  \n",
    "        if self.is_empty():\n",
    "            self.head = self.Node(item, None)\n",
    "        else:\n",
    "            self.head = self.Node(item, self.head)\n",
    "        self.size += 1\n",
    "        \n",
    "    # p가 가리키는 노드 뒤에 item을 항목으로 가지는 노드 삽입하기\n",
    "    # 여기서 p는 head, head.next, head.next.next 등이 가능함\n",
    "    def insert_after(self, item, p):\n",
    "        p.next = self.Node(item, p.next)\n",
    "        self.size += 1\n",
    "    \n",
    "    # 맨 뒤의 노드 삭제하기\n",
    "    def delete_front(self):  \n",
    "        if self.is_empty():\n",
    "            raise EmptyError('Underflow')\n",
    "        else:\n",
    "            self.head = self.head.next\n",
    "            self.size -= 1\n",
    "            \n",
    "    # p가 가리키는 노드 뒤에 있는 노드 삭제하기\n",
    "    # 여기서 p는 head, head.next, head.next.next 등이 가능함\n",
    "    def delete_after(self, p):  \n",
    "        if self.is_empty():\n",
    "            raise EmptyError('Unerflow')\n",
    "        t = p.next\n",
    "        p.next = t.next\n",
    "        self.size -= 1\n",
    "    \n",
    "    # target을 항목으로 가지는 노드가 앞에서부터 몇 번째에 있는지 반환하기\n",
    "    def search(self, target):  \n",
    "        p = self.head\n",
    "        for k in range(self.size):\n",
    "            if target == p.item: return k\n",
    "            p = p.next\n",
    "        return None\n",
    "        \n",
    "    # 전체 항목 출력하기\n",
    "    def print_list(self):\n",
    "        p = self.head\n",
    "        while p:\n",
    "            if p.next != None:\n",
    "                print(p.item, ' -> ', end='', sep='')\n",
    "            else:\n",
    "                print(p.item)\n",
    "            p = p.next"
   ]
  },
  {
   "cell_type": "markdown",
   "metadata": {},
   "source": [
    "#### 2.2"
   ]
  },
  {
   "cell_type": "code",
   "execution_count": 4,
   "metadata": {},
   "outputs": [],
   "source": [
    "s = SList()"
   ]
  },
  {
   "cell_type": "code",
   "execution_count": 5,
   "metadata": {},
   "outputs": [
    {
     "name": "stdout",
     "output_type": "stream",
     "text": [
      "김밤순\n"
     ]
    }
   ],
   "source": [
    "s.insert_front('김밤순')\n",
    "s.print_list()"
   ]
  },
  {
   "cell_type": "code",
   "execution_count": 6,
   "metadata": {},
   "outputs": [
    {
     "name": "stdout",
     "output_type": "stream",
     "text": [
      "이수아 -> 김밤순\n"
     ]
    }
   ],
   "source": [
    "s.insert_front('이수아')\n",
    "s.print_list()"
   ]
  },
  {
   "cell_type": "code",
   "execution_count": 7,
   "metadata": {},
   "outputs": [
    {
     "name": "stdout",
     "output_type": "stream",
     "text": [
      "김애용 -> 이수아 -> 김밤순\n"
     ]
    }
   ],
   "source": [
    "s.insert_front('김애용')\n",
    "s.print_list()"
   ]
  },
  {
   "cell_type": "code",
   "execution_count": 8,
   "metadata": {},
   "outputs": [
    {
     "name": "stdout",
     "output_type": "stream",
     "text": [
      "김애용 -> 이수아 -> 이정환 -> 김밤순\n"
     ]
    }
   ],
   "source": [
    "s.insert_after('이정환', s.head.next)  # head.next가 가리키는 '이수아' 뒤에 '이정환' 삽입\n",
    "s.print_list()"
   ]
  },
  {
   "cell_type": "markdown",
   "metadata": {},
   "source": [
    "#### 2.3 Doubly Linked List"
   ]
  },
  {
   "cell_type": "code",
   "execution_count": 9,
   "metadata": {},
   "outputs": [],
   "source": [
    "class DList:\n",
    "\n",
    "    class EmptyError(Exception):\n",
    "        pass\n",
    "    \n",
    "    class Node:\n",
    "        def __init__(self, item, prev, link):\n",
    "            self.item = item\n",
    "            self.prev = prev\n",
    "            self.next = link\n",
    "                \n",
    "    def __init__(self):\n",
    "        self.head = self.Node(None, None, None)\n",
    "        self.tail = self.Node(None, self.head, None)\n",
    "        self.head.next = self.tail\n",
    "        self.size = 0\n",
    "        \n",
    "    def size(self): return self.size\n",
    "    def is_empty(self): return self.size == 0\n",
    "    \n",
    "    # p가 가리키는 노드 앞에 item을 항목으로 가지는 노드 삽입하기\n",
    "    # 여기서 p는 head, head.next, tail.prev 등이 가능함\n",
    "    def insert_before(self, p, item):  \n",
    "        t = p.prev\n",
    "        n = self.Node(item, t, p)\n",
    "        p.prev = n\n",
    "        t.next = n\n",
    "        self.size += 1\n",
    "        \n",
    "    # p가 가리키는 노드 뒤에 item을 항목으로 가지는 노드 삽입하기\n",
    "    # 여기서 p는 head, head.next, tail.prev 등이 가능함        \n",
    "    def insert_after(self, p, item):\n",
    "        t = p.next\n",
    "        n = self.Node(item, p, t)\n",
    "        t.prev = n\n",
    "        p.next = n\n",
    "        self.size -= 1\n",
    "        \n",
    "    # p가 가리키는 노드 삭제하고 삭제된 노드의 item 반환하기\n",
    "    # 여기서 p는 head, head.next, tail.prev 등이 가능함         \n",
    "    def delete(self, p):\n",
    "        f = p.prev\n",
    "        r = p.next\n",
    "        f.next = r\n",
    "        r.prev = f\n",
    "        self.size -= 1\n",
    "        return p.item\n",
    "    \n",
    "    # 전체 item 출력하기\n",
    "    def print_list(self):\n",
    "        if self.is_empty():\n",
    "            print(\"Empty\")\n",
    "        else:\n",
    "            p = self.head.next\n",
    "            while p != self.tail:\n",
    "                if p.next != self.tail:\n",
    "                    print(p.item, ' <-> ', end='', sep='')\n",
    "                else:\n",
    "                    print(p.item)\n",
    "                p = p.next"
   ]
  },
  {
   "cell_type": "markdown",
   "metadata": {},
   "source": [
    "#### 2.4"
   ]
  },
  {
   "cell_type": "code",
   "execution_count": 10,
   "metadata": {},
   "outputs": [],
   "source": [
    "d = DList()"
   ]
  },
  {
   "cell_type": "code",
   "execution_count": 11,
   "metadata": {},
   "outputs": [
    {
     "name": "stdout",
     "output_type": "stream",
     "text": [
      "김밤순\n"
     ]
    }
   ],
   "source": [
    "d.insert_after(d.head, '김밤순')\n",
    "d.print_list()"
   ]
  },
  {
   "cell_type": "code",
   "execution_count": 12,
   "metadata": {},
   "outputs": [
    {
     "name": "stdout",
     "output_type": "stream",
     "text": [
      "김밤순 <-> 김빅순\n"
     ]
    }
   ],
   "source": [
    "d.insert_after(d.head.next, '김빅순')  # d.head.next가 가리키는 '김밤순' 뒤에 '김빅순' 삽입\n",
    "d.print_list()"
   ]
  },
  {
   "cell_type": "code",
   "execution_count": 13,
   "metadata": {},
   "outputs": [
    {
     "name": "stdout",
     "output_type": "stream",
     "text": [
      "떼껄룩 <-> 김밤순 <-> 김빅순\n"
     ]
    }
   ],
   "source": [
    "d.insert_after(d.head, '떼껄룩')  # 맨 앞 dummy node인 head 뒤에 '떼껄룩' 삽입\n",
    "d.print_list()"
   ]
  },
  {
   "cell_type": "code",
   "execution_count": 14,
   "metadata": {},
   "outputs": [
    {
     "name": "stdout",
     "output_type": "stream",
     "text": [
      "김애용 <-> 떼껄룩 <-> 김밤순 <-> 김빅순\n"
     ]
    }
   ],
   "source": [
    "d.insert_before(d.head.next, '김애용')  # d.head.next가 가리키는 '떼껄룩' 앞에 '김애용' 삽입\n",
    "d.print_list()"
   ]
  },
  {
   "cell_type": "code",
   "execution_count": 15,
   "metadata": {},
   "outputs": [
    {
     "name": "stdout",
     "output_type": "stream",
     "text": [
      "김밤순\n"
     ]
    }
   ],
   "source": [
    "print(d.delete(d.tail.prev.prev))  # d.tail.prev.prev가 가리키는 '김밤순' 삭제하고 반환"
   ]
  },
  {
   "cell_type": "markdown",
   "metadata": {},
   "source": [
    "#### 2.5 Circular Linked List"
   ]
  },
  {
   "cell_type": "code",
   "execution_count": 16,
   "metadata": {},
   "outputs": [],
   "source": [
    "class CList:\n",
    "\n",
    "    class EmptyError(Exception):\n",
    "        pass\n",
    "    \n",
    "    class Node:\n",
    "        def __init__(self, item, link):\n",
    "            self.item = item\n",
    "            self.next = link\n",
    "    \n",
    "    def __init__(self):\n",
    "        self.last = None\n",
    "        self.size = 0\n",
    "    \n",
    "    def no_items(self): return self.size\n",
    "    def is_empty(self): return self.size == 0\n",
    "    \n",
    "    # item을 항목으로 가지는 노드를 맨 앞에 삽입하기\n",
    "    def insert(self, item):\n",
    "        n = self.Node(item, None)\n",
    "        if self.is_empty():\n",
    "            n.next = n\n",
    "            self.last = n\n",
    "        else:\n",
    "            n.next = self.last.next\n",
    "            self.last.next = n\n",
    "        self.size += 1\n",
    "    \n",
    "    # 맨 앞 노드의 item 반환하기\n",
    "    def first(self):\n",
    "        if self.is_empty():\n",
    "            raise EmptyError('Underflow')\n",
    "        f = self.last.next\n",
    "        return f.item\n",
    "    \n",
    "    # 맨 앞 노드 삭제하기\n",
    "    def delete(self):\n",
    "        if self.is_empty():\n",
    "            raise EmptyError('Underflow')\n",
    "        x = self.last.next\n",
    "        if self.size == 1:\n",
    "            self.last = None\n",
    "        else:\n",
    "            self.last.next = x.next\n",
    "        self.size -= 1\n",
    "    \n",
    "    # 전체 item 출력하기\n",
    "    def print_list(self):\n",
    "        if self.is_empty():\n",
    "            print('list is empty')\n",
    "        else:\n",
    "            f = self.last.next\n",
    "            p = f\n",
    "            while p.next != f:\n",
    "                print(p.item, ' -> ', end='', sep='')\n",
    "                p = p.next\n",
    "            print(p.item)"
   ]
  },
  {
   "cell_type": "markdown",
   "metadata": {},
   "source": [
    "#### 2.6"
   ]
  },
  {
   "cell_type": "code",
   "execution_count": 17,
   "metadata": {},
   "outputs": [],
   "source": [
    "c = CList()"
   ]
  },
  {
   "cell_type": "code",
   "execution_count": 18,
   "metadata": {},
   "outputs": [
    {
     "name": "stdout",
     "output_type": "stream",
     "text": [
      "이수아 -> 이정환 -> 김빅순 -> 김밤순\n"
     ]
    }
   ],
   "source": [
    "c.insert('김밤순')\n",
    "c.insert('김빅순')\n",
    "c.insert('이정환')\n",
    "c.insert('이수아')\n",
    "c.print_list()"
   ]
  },
  {
   "cell_type": "code",
   "execution_count": 19,
   "metadata": {},
   "outputs": [
    {
     "name": "stdout",
     "output_type": "stream",
     "text": [
      "김밤순\n"
     ]
    }
   ],
   "source": [
    "print(c.last.item)"
   ]
  },
  {
   "cell_type": "code",
   "execution_count": 20,
   "metadata": {},
   "outputs": [
    {
     "name": "stdout",
     "output_type": "stream",
     "text": [
      "이수아\n"
     ]
    }
   ],
   "source": [
    "print(c.first())"
   ]
  },
  {
   "cell_type": "markdown",
   "metadata": {},
   "source": [
    "# Exercises"
   ]
  },
  {
   "cell_type": "code",
   "execution_count": 21,
   "metadata": {},
   "outputs": [],
   "source": [
    "from random import randint\n",
    "import random\n",
    "import math"
   ]
  },
  {
   "cell_type": "markdown",
   "metadata": {},
   "source": [
    "#### 2.7"
   ]
  },
  {
   "cell_type": "code",
   "execution_count": 22,
   "metadata": {},
   "outputs": [],
   "source": [
    "def convert_slist_into_plist(slist):\n",
    "    plist = []\n",
    "    p = slist.head\n",
    "    while p:\n",
    "        plist.append(p.item)\n",
    "        p = p.next\n",
    "    return plist"
   ]
  },
  {
   "cell_type": "code",
   "execution_count": 23,
   "metadata": {},
   "outputs": [],
   "source": [
    "def convert_plist_into_slist(plist):\n",
    "    slist = SList()\n",
    "    for i in range(len(plist)-1, -1, -1):\n",
    "        slist.insert_front(plist[i])\n",
    "    return slist"
   ]
  },
  {
   "cell_type": "code",
   "execution_count": 24,
   "metadata": {},
   "outputs": [],
   "source": [
    "def solution0207(slist1, slist2):\n",
    "    return sorted(convert_slist_into_plist(slist1) + convert_slist_into_plist(slist2))"
   ]
  },
  {
   "cell_type": "code",
   "execution_count": 25,
   "metadata": {},
   "outputs": [],
   "source": [
    "random.seed(7777)\n",
    "example1 = convert_plist_into_slist(list(random.sample(range(10, 100), 11)))\n",
    "example2 = convert_plist_into_slist(list(random.sample(range(10, 100), 17)))"
   ]
  },
  {
   "cell_type": "code",
   "execution_count": 26,
   "metadata": {},
   "outputs": [
    {
     "name": "stdout",
     "output_type": "stream",
     "text": [
      "27 -> 77 -> 51 -> 69 -> 59 -> 18 -> 63 -> 79 -> 81 -> 14 -> 74\n",
      "79 -> 69 -> 66 -> 35 -> 44 -> 73 -> 21 -> 67 -> 76 -> 32 -> 42 -> 48 -> 58 -> 91 -> 11 -> 34 -> 13\n"
     ]
    }
   ],
   "source": [
    "example1.print_list()\n",
    "example2.print_list()"
   ]
  },
  {
   "cell_type": "code",
   "execution_count": 27,
   "metadata": {},
   "outputs": [
    {
     "name": "stdout",
     "output_type": "stream",
     "text": [
      "[11, 13, 14, 18, 21, 27, 32, 34, 35, 42, 44, 48, 51, 58, 59, 63, 66, 67, 69, 69, 73, 74, 76, 77, 79, 79, 81, 91]\n"
     ]
    }
   ],
   "source": [
    "print(solution0207(example1, example2))"
   ]
  },
  {
   "cell_type": "markdown",
   "metadata": {},
   "source": [
    "#### 2.9"
   ]
  },
  {
   "cell_type": "code",
   "execution_count": 28,
   "metadata": {},
   "outputs": [],
   "source": [
    "def solution0209(slist):\n",
    "    answer = SList()\n",
    "    p = slist.head\n",
    "    for k in range(slist.size):\n",
    "        answer.insert_front(p.item)\n",
    "        p = p.next\n",
    "    return answer"
   ]
  },
  {
   "cell_type": "code",
   "execution_count": 29,
   "metadata": {},
   "outputs": [
    {
     "name": "stdout",
     "output_type": "stream",
     "text": [
      "27 -> 77 -> 51 -> 69 -> 59 -> 18 -> 63 -> 79 -> 81 -> 14 -> 74\n",
      "74 -> 14 -> 81 -> 79 -> 63 -> 18 -> 59 -> 69 -> 51 -> 77 -> 27\n"
     ]
    }
   ],
   "source": [
    "example1.print_list()\n",
    "solution0209(example1).print_list()"
   ]
  },
  {
   "cell_type": "markdown",
   "metadata": {},
   "source": [
    "#### 2.10"
   ]
  },
  {
   "cell_type": "code",
   "execution_count": 30,
   "metadata": {},
   "outputs": [],
   "source": [
    "def solution0210(slist, k):\n",
    "    answer1, answer2 = SList(), SList()\n",
    "    answer1.insert_front(None); answer2.insert_front(None)\n",
    "    p, h1, h2 = slist.head, answer1.head, answer2.head\n",
    "    for i in range(slist.size):\n",
    "        if p.item <= k:\n",
    "            answer1.insert_after(p.item, h1)\n",
    "            p, h1 = p.next, h1.next\n",
    "        else:\n",
    "            answer2.insert_after(p.item, h2)\n",
    "            p, h2 = p.next, h2.next\n",
    "    answer1.delete_front(); answer2.delete_front()\n",
    "    return answer1, answer2"
   ]
  },
  {
   "cell_type": "code",
   "execution_count": 31,
   "metadata": {},
   "outputs": [
    {
     "name": "stdout",
     "output_type": "stream",
     "text": [
      "27 -> 77 -> 51 -> 69 -> 59 -> 18 -> 63 -> 79 -> 81 -> 14 -> 74\n",
      "27 -> 18 -> 14\n",
      "77 -> 51 -> 69 -> 59 -> 63 -> 79 -> 81 -> 74\n"
     ]
    }
   ],
   "source": [
    "example1.print_list()\n",
    "solution0210(example1, 50)[0].print_list()\n",
    "solution0210(example1, 50)[1].print_list()"
   ]
  },
  {
   "cell_type": "markdown",
   "metadata": {},
   "source": [
    "#### 2.11"
   ]
  },
  {
   "cell_type": "code",
   "execution_count": 32,
   "metadata": {},
   "outputs": [],
   "source": [
    "def solution0211(slist1, slist2):\n",
    "    answer = 0\n",
    "    p1 = slist1.head\n",
    "    for i in range(slist1.size):\n",
    "        p2 = slist2.head\n",
    "        for j in range(slist2.size):\n",
    "            if p1.item == p2.item:\n",
    "                answer += p1.item\n",
    "            p2 = p2.next\n",
    "        p1 = p1.next\n",
    "    if answer !=0: return answer\n",
    "    else: return None"
   ]
  },
  {
   "cell_type": "code",
   "execution_count": 33,
   "metadata": {},
   "outputs": [
    {
     "name": "stdout",
     "output_type": "stream",
     "text": [
      "148\n"
     ]
    }
   ],
   "source": [
    "print(solution0211(example1, example2))"
   ]
  },
  {
   "cell_type": "markdown",
   "metadata": {},
   "source": [
    "#### 2.12"
   ]
  },
  {
   "cell_type": "code",
   "execution_count": 34,
   "metadata": {},
   "outputs": [],
   "source": [
    "def solution0213(slist):\n",
    "    p = slist.head\n",
    "    for i in range(slist.size//2):\n",
    "        p = p.next\n",
    "    return p.item"
   ]
  },
  {
   "cell_type": "code",
   "execution_count": 35,
   "metadata": {},
   "outputs": [
    {
     "name": "stdout",
     "output_type": "stream",
     "text": [
      "18\n"
     ]
    }
   ],
   "source": [
    "print(solution0213(example1))"
   ]
  },
  {
   "cell_type": "markdown",
   "metadata": {},
   "source": [
    "#### 2.15"
   ]
  },
  {
   "cell_type": "code",
   "execution_count": 36,
   "metadata": {},
   "outputs": [],
   "source": [
    "def Josephus(N, M):\n",
    "    if N == 1:\n",
    "        return 1\n",
    "    if M == 1:\n",
    "        return N\n",
    "    c = CList()\n",
    "    for i in range(N, 0, -1):\n",
    "        c.insert(i)\n",
    "    for i in range(N - 1):\n",
    "        x = c.last\n",
    "        for j in range(M - 1):\n",
    "            x = x.next\n",
    "        c.last = x\n",
    "        c.last.next = c.last.next.next\n",
    "        c.print_list()"
   ]
  },
  {
   "cell_type": "code",
   "execution_count": 37,
   "metadata": {
    "scrolled": true
   },
   "outputs": [
    {
     "name": "stdout",
     "output_type": "stream",
     "text": [
      "3 -> 4 -> 5 -> 6 -> 1\n",
      "5 -> 6 -> 1 -> 3\n",
      "1 -> 3 -> 5\n",
      "5 -> 1\n",
      "5\n"
     ]
    }
   ],
   "source": [
    "Josephus(6, 2)"
   ]
  },
  {
   "cell_type": "code",
   "execution_count": 38,
   "metadata": {},
   "outputs": [
    {
     "name": "stdout",
     "output_type": "stream",
     "text": [
      "4 -> 5 -> 6 -> 7 -> 8 -> 9 -> 10 -> 1 -> 2\n",
      "7 -> 8 -> 9 -> 10 -> 1 -> 2 -> 4 -> 5\n",
      "10 -> 1 -> 2 -> 4 -> 5 -> 7 -> 8\n",
      "4 -> 5 -> 7 -> 8 -> 10 -> 1\n",
      "8 -> 10 -> 1 -> 4 -> 5\n",
      "4 -> 5 -> 8 -> 10\n",
      "10 -> 4 -> 5\n",
      "10 -> 4\n",
      "4\n"
     ]
    }
   ],
   "source": [
    "Josephus(10, 3)"
   ]
  },
  {
   "cell_type": "markdown",
   "metadata": {},
   "source": [
    "#### 2.16"
   ]
  },
  {
   "cell_type": "code",
   "execution_count": 39,
   "metadata": {},
   "outputs": [],
   "source": [
    "def solution0216(a, k):\n",
    "    answer1, answer2 = [], []\n",
    "    for i in range(len(a)):\n",
    "        if a[i] <= k:\n",
    "            answer1.append(a[i])\n",
    "        else:\n",
    "            answer2.append(a[i])\n",
    "    return answer1, answer2"
   ]
  },
  {
   "cell_type": "markdown",
   "metadata": {},
   "source": [
    "#### 2.18"
   ]
  },
  {
   "cell_type": "code",
   "execution_count": 40,
   "metadata": {},
   "outputs": [],
   "source": [
    "def solution0218(a):\n",
    "    N, answer = len(a), 0\n",
    "    for i in range(N):\n",
    "        answer += a[i]\n",
    "    return answer - int(N*(N-1)/2)"
   ]
  },
  {
   "cell_type": "markdown",
   "metadata": {},
   "source": [
    "#### 2.19"
   ]
  },
  {
   "cell_type": "code",
   "execution_count": 41,
   "metadata": {},
   "outputs": [],
   "source": [
    "def solution0219(a):\n",
    "    N, answer = len(a), 0\n",
    "    for i in range(N-1):\n",
    "        answer += a[i]\n",
    "    return int((N+1)*N/2) - answer"
   ]
  },
  {
   "cell_type": "markdown",
   "metadata": {},
   "source": [
    "#### 2.20"
   ]
  },
  {
   "cell_type": "code",
   "execution_count": 42,
   "metadata": {},
   "outputs": [],
   "source": [
    "def solution0220(a):\n",
    "    N, add, mult = len(a)+2, 0, 1\n",
    "    for i in range(N - 2):\n",
    "        add += a[i]; mult *= a[i]\n",
    "    add, mult = int((N + 1)*N/2 - add), int(math.factorial(N)/mult)\n",
    "    return int((add - math.sqrt(add**2 - 4*mult))/2), int((add + math.sqrt(add**2 - 4*mult))/2)"
   ]
  },
  {
   "cell_type": "markdown",
   "metadata": {},
   "source": [
    "#### 2.21"
   ]
  },
  {
   "cell_type": "code",
   "execution_count": 43,
   "metadata": {},
   "outputs": [],
   "source": [
    "def solution0221(a):\n",
    "    counts = {}\n",
    "    for i in range(len(a)):\n",
    "        counts[a[i]] = counts.get(a[i], 0) + 1\n",
    "    for key in counts.keys():\n",
    "        if counts[key] == 1:\n",
    "            return key"
   ]
  },
  {
   "cell_type": "markdown",
   "metadata": {},
   "source": [
    "#### 2.22"
   ]
  },
  {
   "cell_type": "code",
   "execution_count": 44,
   "metadata": {},
   "outputs": [],
   "source": [
    "def solution0222(a):\n",
    "    counts = {}\n",
    "    for i in range(len(a)):\n",
    "        counts[a[i]] = counts.get(a[i], 0) + 1\n",
    "    for key, value in counts.items():\n",
    "        if value > len(a)//2:\n",
    "            return key\n",
    "        else:\n",
    "            return None"
   ]
  },
  {
   "cell_type": "code",
   "execution_count": 45,
   "metadata": {},
   "outputs": [
    {
     "name": "stdout",
     "output_type": "stream",
     "text": [
      "3\n"
     ]
    }
   ],
   "source": [
    "print(solution0222([3, 1, 3, 2, 3]))"
   ]
  },
  {
   "cell_type": "code",
   "execution_count": 46,
   "metadata": {},
   "outputs": [
    {
     "name": "stdout",
     "output_type": "stream",
     "text": [
      "None\n"
     ]
    }
   ],
   "source": [
    "print(solution0222([3, 1, 3, 2]))"
   ]
  },
  {
   "cell_type": "markdown",
   "metadata": {},
   "source": [
    "#### 2.23.A"
   ]
  },
  {
   "cell_type": "code",
   "execution_count": 47,
   "metadata": {},
   "outputs": [],
   "source": [
    "def solution0223A(plist):\n",
    "    maximum = plist[0]\n",
    "    for i in range(len(plist) - 1):\n",
    "        temp = plist[i]\n",
    "        if temp > maximum:\n",
    "            maximum = temp\n",
    "        for j in range(i + 1, len(plist)):\n",
    "            temp += plist[j]\n",
    "            if temp > maximum:\n",
    "                maximum = temp\n",
    "    if plist[-1] > maximum:\n",
    "        return plist[-1]\n",
    "    return maximum"
   ]
  },
  {
   "cell_type": "code",
   "execution_count": 48,
   "metadata": {},
   "outputs": [
    {
     "name": "stdout",
     "output_type": "stream",
     "text": [
      "5\n"
     ]
    }
   ],
   "source": [
    "print(solution0223A([2, 1, -3, 1, -4, 1, 1, 3, -5, 4]))"
   ]
  },
  {
   "cell_type": "markdown",
   "metadata": {},
   "source": [
    "#### 2.23.B"
   ]
  },
  {
   "cell_type": "code",
   "execution_count": 49,
   "metadata": {},
   "outputs": [],
   "source": [
    "def solution0223B(plist):\n",
    "    N, clist = len(plist), CList()\n",
    "    for i in range(N - 1, -1, -1):\n",
    "        clist.insert(plist[i])\n",
    "    maximum = clist.first()\n",
    "    for i in range(N):\n",
    "        temp = clist.first()\n",
    "        if temp > maximum:\n",
    "            maximum = temp\n",
    "        p = clist.last.next.next\n",
    "        for j in range(N - 1):\n",
    "            temp += p.item\n",
    "            if temp > maximum:\n",
    "                maximum = temp\n",
    "            p = p.next\n",
    "        clist.last = clist.last.next\n",
    "    return maximum"
   ]
  },
  {
   "cell_type": "code",
   "execution_count": 50,
   "metadata": {
    "scrolled": true
   },
   "outputs": [
    {
     "name": "stdout",
     "output_type": "stream",
     "text": [
      "7\n"
     ]
    }
   ],
   "source": [
    "print(solution0223B([2, 1, -3, 1, -4, 1, 1, 3, -5, 4]))"
   ]
  }
 ],
 "metadata": {
  "kernelspec": {
   "display_name": "Python 3",
   "language": "python",
   "name": "python3"
  },
  "language_info": {
   "codemirror_mode": {
    "name": "ipython",
    "version": 3
   },
   "file_extension": ".py",
   "mimetype": "text/x-python",
   "name": "python",
   "nbconvert_exporter": "python",
   "pygments_lexer": "ipython3",
   "version": "3.7.6"
  }
 },
 "nbformat": 4,
 "nbformat_minor": 2
}
