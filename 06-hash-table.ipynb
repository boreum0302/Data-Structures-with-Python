{
 "cells": [
  {
   "cell_type": "markdown",
   "metadata": {},
   "source": [
    "# Open Addressing"
   ]
  },
  {
   "cell_type": "markdown",
   "metadata": {},
   "source": [
    "#### Linear Probing"
   ]
  },
  {
   "cell_type": "code",
   "execution_count": 1,
   "metadata": {},
   "outputs": [],
   "source": [
    "class LinearProbing:\n",
    "    \n",
    "    def __init__(self, size):\n",
    "        self.size = size  # 해시테이블의 크기\n",
    "        self.a = [None] * size  # 키값을 저장하는 리스트; 해시값을 index로 사용함\n",
    "        self.d = [None] * size  # 항목을 저장하는 리스트; 해시값을 index로 사용함\n",
    "    \n",
    "    def hash(self, key):  # 해시함수; 키값을 해시값으로 바꿔줌\n",
    "        return key % self.size\n",
    "    \n",
    "    def put(self, key, item):  # 임의의 키값을 가지는 항목 삽입하기\n",
    "        initial_position = self.hash(key)\n",
    "        i = initial_position\n",
    "        while True:\n",
    "            if self.a[i] == None:\n",
    "                self.a[i] = key\n",
    "                self.d[i] = item\n",
    "                return\n",
    "            if self.a[i] == key:\n",
    "                self.d[i] = item\n",
    "                return\n",
    "            i = (i + 1) % self.size\n",
    "            if i == initial_position:  # 해시테이블을 한 바퀴 다 돌았는데 빈 자리가 없는 경우; 삽입 실패\n",
    "                break\n",
    "                \n",
    "    def get(self, key):  # 임의의 키값을 가지는 항목 반환하기\n",
    "        initial_position = self.hash(key)\n",
    "        i = initial_position\n",
    "        while True:\n",
    "            if self.a[i] == key:\n",
    "                return self.d[i]\n",
    "            i = (i + 1) % self.size\n",
    "            if i == initial_position:  # 해시테이블을 한 바퀴 다 돌았는데 키값을 찾지 못한 경우; 탐색 실패\n",
    "                return None\n",
    "        return None\n",
    "    \n",
    "    # 연습문제 6.16\n",
    "    def delete(self, key):  # 임의의 키값을 가지는 항목 삭제하기\n",
    "        initial_position = self.hash(key)\n",
    "        i = initial_position\n",
    "        while True:\n",
    "            if self.a[i] == key:\n",
    "                item = self.d[i]\n",
    "                self.a[i], self.d[i] = None, None\n",
    "                return item\n",
    "            i = (i + 1) % self.size\n",
    "            if i == initial_position:  # 해시테이블을 한 바퀴 다 돌았는데 키값을 찾지 못한 경우; 탐색 실패\n",
    "                return None\n",
    "        return None    \n",
    "    \n",
    "    def print_table(self):\n",
    "        for i in range(self.size):  # 해시값 출력하기\n",
    "            print('{:4}'.format(str(i)), ' ', end='')\n",
    "        print()\n",
    "        for i in range(self.size):  # 키값 출력하기\n",
    "            print('{:4}'.format(str(self.a[i])), ' ', end='')\n",
    "        print()\n",
    "        for i in range(self.size):  # 항목 출력하기\n",
    "            print('{:4}'.format(str(self.d[i])), ' ', end='')"
   ]
  },
  {
   "cell_type": "code",
   "execution_count": 2,
   "metadata": {},
   "outputs": [
    {
     "name": "stdout",
     "output_type": "stream",
     "text": [
      "0     1     2     3     4     5     6     7     8     9     10    11    12    \n",
      "50    63    None  55    None  18    None  None  None  22    35    37    25    \n",
      "G     H     None  D     None  C     None  None  None  E     F     B     A     "
     ]
    }
   ],
   "source": [
    "t = LinearProbing(13)\n",
    "t.put(25, 'A')\n",
    "t.put(37, 'B')\n",
    "t.put(18, 'C')\n",
    "t.put(55, 'D')\n",
    "t.put(22, 'E')\n",
    "t.put(35, 'F')\n",
    "t.put(50, 'G')\n",
    "t.put(63, 'H')\n",
    "t.print_table()"
   ]
  },
  {
   "cell_type": "code",
   "execution_count": 3,
   "metadata": {},
   "outputs": [
    {
     "name": "stdout",
     "output_type": "stream",
     "text": [
      "D\n",
      "None\n",
      "A\n",
      "0     1     2     3     4     5     6     7     8     9     10    11    12    \n",
      "50    63    None  55    None  18    None  None  None  22    35    37    None  \n",
      "G     H     None  D     None  C     None  None  None  E     F     B     None  "
     ]
    }
   ],
   "source": [
    "print(t.get(55))\n",
    "print(t.get(99))\n",
    "print(t.delete(25))\n",
    "t.print_table()"
   ]
  },
  {
   "cell_type": "markdown",
   "metadata": {},
   "source": [
    "#### Quadratic Probing"
   ]
  },
  {
   "cell_type": "code",
   "execution_count": 4,
   "metadata": {},
   "outputs": [],
   "source": [
    "class QuadProbing:\n",
    "    \n",
    "    def __init__(self, size):\n",
    "        self.size = size  # 해시테이블의 크기\n",
    "        self.a = [None] * size  # 키값을 저장하는 리스트; 해시값을 index로 사용함\n",
    "        self.d = [None] * size  # 항목을 저장하는 리스트; 해시값을 index로 사용함\n",
    "        self.N = 0  # 항목의 개수\n",
    "    \n",
    "    def hash(self, key):  # 해시함수; 키값을 해시값으로 바꿔줌\n",
    "        return key % self.size\n",
    "    \n",
    "    def put(self, key, item):  # 임의의 키값을 가지는 항목 삽입하기\n",
    "        initial_position = self.hash(key)\n",
    "        i, j = initial_position, 1\n",
    "        while True:\n",
    "            if self.a[i] == None:\n",
    "                self.a[i] = key\n",
    "                self.d[i] = item\n",
    "                self.N += 1\n",
    "                return\n",
    "            if self.a[i] == key:\n",
    "                self.d[i] = item\n",
    "                return\n",
    "            i = (initial_position + j**2) % self.size\n",
    "            j += 1\n",
    "            if self.N > self.size:  # 항목이 테이블 크기보다 큰 경우; 삽입 실패\n",
    "                break\n",
    "                \n",
    "    def get(self, key):  # 임의의 키값을 가지는 항목 반환하기\n",
    "        initial_position = self.hash(key)\n",
    "        i, j = initial_position, 1\n",
    "        while True:\n",
    "            if self.a[i] == key:\n",
    "                return self.d[i]\n",
    "            i = (initial_position + j**2) % self.size\n",
    "            j += 1\n",
    "            if i == initial_position and j % self.size == 1:  # 초기 상태로 돌아왔는데 키값을 찾지 못한 경우; 탐색 실패\n",
    "                return None\n",
    "        return None\n",
    "    \n",
    "    def print_table(self):\n",
    "        for i in range(self.size):  # 해시값 출력하기\n",
    "            print('{:4}'.format(str(i)), ' ', end='')\n",
    "        print()\n",
    "        for i in range(self.size):  # 키값 출력하기\n",
    "            print('{:4}'.format(str(self.a[i])), ' ', end='')\n",
    "        print()\n",
    "        for i in range(self.size):  # 항목 출력하기\n",
    "            print('{:4}'.format(str(self.d[i])), ' ', end='')"
   ]
  },
  {
   "cell_type": "code",
   "execution_count": 5,
   "metadata": {},
   "outputs": [
    {
     "name": "stdout",
     "output_type": "stream",
     "text": [
      "0     1     2     3     4     5     6     7     8     9     10    11    12    \n",
      "None  None  50    55    None  18    None  63    None  22    35    37    25    \n",
      "None  None  G     D     None  C     None  H     None  E     F     B     A     "
     ]
    }
   ],
   "source": [
    "t = QuadProbing(13)\n",
    "t.put(25, 'A')\n",
    "t.put(37, 'B')\n",
    "t.put(18, 'C')\n",
    "t.put(55, 'D')\n",
    "t.put(22, 'E')\n",
    "t.put(35, 'F')\n",
    "t.put(50, 'G')\n",
    "t.put(63, 'H')\n",
    "t.print_table()"
   ]
  },
  {
   "cell_type": "code",
   "execution_count": 6,
   "metadata": {},
   "outputs": [
    {
     "name": "stdout",
     "output_type": "stream",
     "text": [
      "D\n",
      "None\n"
     ]
    }
   ],
   "source": [
    "print(t.get(55))\n",
    "print(t.get(99))"
   ]
  },
  {
   "cell_type": "markdown",
   "metadata": {},
   "source": [
    "#### Random Probing"
   ]
  },
  {
   "cell_type": "code",
   "execution_count": 7,
   "metadata": {},
   "outputs": [],
   "source": [
    "import random"
   ]
  },
  {
   "cell_type": "code",
   "execution_count": 8,
   "metadata": {},
   "outputs": [],
   "source": [
    "# 연습문제 6.17\n",
    "class RandProbing:\n",
    "    \n",
    "    def __init__(self, size):\n",
    "        self.size = size  # 해시테이블의 크기\n",
    "        self.a = [None] * size  # 키값을 저장하는 리스트; 해시값을 index로 사용함\n",
    "        self.d = [None] * size  # 항목을 저장하는 리스트; 해시값을 index로 사용함\n",
    "        self.N = 0  # 항목의 개수\n",
    "    \n",
    "    def hash(self, key):  # 해시함수; 키값을 해시값으로 바꿔줌\n",
    "        return key % self.size\n",
    "    \n",
    "    def put(self, key, item):  # 임의의 키값을 가지는 항목 삽입하기\n",
    "        initial_position = self.hash(key)\n",
    "        i= initial_position\n",
    "        random.seed(930718)\n",
    "        while True:\n",
    "            if self.a[i] == None:\n",
    "                self.a[i] = key\n",
    "                self.d[i] = item\n",
    "                self.N += 1\n",
    "                return\n",
    "            if self.a[i] == key:\n",
    "                self.d[i] = item\n",
    "                return\n",
    "            j = random.randint(1, 100)\n",
    "            i = (initial_position + j) % self.size\n",
    "            if self.N > self.size:  # 항목이 테이블 크기보다 큰 경우; 삽입 실패\n",
    "                break\n",
    "                \n",
    "    def get(self, key):  # 임의의 키값을 가지는 항목 반환하기\n",
    "        initial_position = self.hash(key)\n",
    "        i, count = initial_position, 0\n",
    "        random.seed(930718)\n",
    "        while True:\n",
    "            if self.a[i] == key:\n",
    "                return self.d[i]\n",
    "            j = random.randint(1, 100)\n",
    "            i = (initial_position + j) % self.size\n",
    "            count += 1\n",
    "            if count > self.size * 10000:\n",
    "                return None\n",
    "        return None\n",
    "    \n",
    "    def print_table(self):\n",
    "        for i in range(self.size):  # 해시값 출력하기\n",
    "            print('{:4}'.format(str(i)), ' ', end='')\n",
    "        print()\n",
    "        for i in range(self.size):  # 키값 출력하기\n",
    "            print('{:4}'.format(str(self.a[i])), ' ', end='')\n",
    "        print()\n",
    "        for i in range(self.size):  # 항목 출력하기\n",
    "            print('{:4}'.format(str(self.d[i])), ' ', end='')"
   ]
  },
  {
   "cell_type": "code",
   "execution_count": 9,
   "metadata": {},
   "outputs": [
    {
     "name": "stdout",
     "output_type": "stream",
     "text": [
      "0     1     2     3     4     5     6     7     8     9     10    11    12    \n",
      "None  63    None  55    50    18    None  35    None  22    None  37    25    \n",
      "None  H     None  D     G     C     None  F     None  E     None  B     A     "
     ]
    }
   ],
   "source": [
    "t = RandProbing(13)\n",
    "t.put(25, 'A')\n",
    "t.put(37, 'B')\n",
    "t.put(18, 'C')\n",
    "t.put(55, 'D')\n",
    "t.put(22, 'E')\n",
    "t.put(35, 'F')\n",
    "t.put(50, 'G')\n",
    "t.put(63, 'H')\n",
    "t.print_table()"
   ]
  },
  {
   "cell_type": "code",
   "execution_count": 10,
   "metadata": {},
   "outputs": [
    {
     "name": "stdout",
     "output_type": "stream",
     "text": [
      "D\n",
      "None\n"
     ]
    }
   ],
   "source": [
    "print(t.get(55))\n",
    "print(t.get(99))"
   ]
  },
  {
   "cell_type": "markdown",
   "metadata": {},
   "source": [
    "#### Double Hashing"
   ]
  },
  {
   "cell_type": "code",
   "execution_count": 11,
   "metadata": {},
   "outputs": [],
   "source": [
    "# 연습문제 6.18\n",
    "class DoubleHashing:\n",
    "    \n",
    "    def __init__(self, size):\n",
    "        self.size = size  # 해시테이블의 크기\n",
    "        self.a = [None] * size  # 키값을 저장하는 리스트; 해시값을 index로 사용함\n",
    "        self.d = [None] * size  # 항목을 저장하는 리스트; 해시값을 index로 사용함\n",
    "        self.N = 0  # 항목의 개수\n",
    "    \n",
    "    def hash1(self, key):  # 해시함수; 키값을 해시값으로 바꿔줌\n",
    "        return key % self.size\n",
    "    \n",
    "    def hash2(self, key):  # 충돌시 뛰어넘을 칸 수를 정해줌\n",
    "        return 7 - (key % 7)\n",
    "    \n",
    "    def put(self, key, item):  # 임의의 키값을 가지는 항목 삽입하기\n",
    "        initial_position = self.hash1(key)\n",
    "        i, j = initial_position, 1\n",
    "        while True:\n",
    "            if self.a[i] == None:\n",
    "                self.a[i] = key\n",
    "                self.d[i] = item\n",
    "                self.N += 1\n",
    "                return\n",
    "            if self.a[i] == key:\n",
    "                self.d[i] = item\n",
    "                return\n",
    "            i = (initial_position + j * self.hash2(key)) % self.size\n",
    "            j += 1\n",
    "            if self.N > self.size:  # 항목이 테이블 크기보다 큰 경우; 삽입 실패\n",
    "                break\n",
    "                \n",
    "    def get(self, key):  # 임의의 키값을 가지는 항목 반환하기\n",
    "        initial_position = self.hash1(key)\n",
    "        i, j = initial_position, 1\n",
    "        while True:\n",
    "            if self.a[i] == key:\n",
    "                return self.d[i]\n",
    "            i = (initial_position + j * self.hash2(key)) % self.size\n",
    "            j += 1\n",
    "            if i == initial_position and j % self.size == 1:  # 초기 상태로 돌아왔는데 키값을 찾지 못한 경우; 탐색 실패\n",
    "                return None\n",
    "        return None\n",
    "    \n",
    "    def print_table(self):\n",
    "        for i in range(self.size):  # 해시값 출력하기\n",
    "            print('{:4}'.format(str(i)), ' ', end='')\n",
    "        print()\n",
    "        for i in range(self.size):  # 키값 출력하기\n",
    "            print('{:4}'.format(str(self.a[i])), ' ', end='')\n",
    "        print()\n",
    "        for i in range(self.size):  # 항목 출력하기\n",
    "            print('{:4}'.format(str(self.d[i])), ' ', end='')"
   ]
  },
  {
   "cell_type": "code",
   "execution_count": 12,
   "metadata": {},
   "outputs": [
    {
     "name": "stdout",
     "output_type": "stream",
     "text": [
      "0     1     2     3     4     5     6     7     8     9     10    11    12    \n",
      "None  None  None  55    50    18    63    None  None  22    35    37    25    \n",
      "None  None  None  D     G     C     H     None  None  E     F     B     A     "
     ]
    }
   ],
   "source": [
    "t = DoubleHashing(13)\n",
    "t.put(25, 'A')\n",
    "t.put(37, 'B')\n",
    "t.put(18, 'C')\n",
    "t.put(55, 'D')\n",
    "t.put(22, 'E')\n",
    "t.put(35, 'F')\n",
    "t.put(50, 'G')\n",
    "t.put(63, 'H')\n",
    "t.print_table()"
   ]
  },
  {
   "cell_type": "code",
   "execution_count": 13,
   "metadata": {
    "scrolled": true
   },
   "outputs": [
    {
     "name": "stdout",
     "output_type": "stream",
     "text": [
      "D\n",
      "None\n"
     ]
    }
   ],
   "source": [
    "print(t.get(55))\n",
    "print(t.get(99))"
   ]
  },
  {
   "cell_type": "markdown",
   "metadata": {},
   "source": [
    "# Closed Addressing"
   ]
  },
  {
   "cell_type": "markdown",
   "metadata": {},
   "source": [
    "#### Chaining"
   ]
  },
  {
   "cell_type": "code",
   "execution_count": 14,
   "metadata": {},
   "outputs": [],
   "source": [
    "class Chaining:\n",
    "    \n",
    "    class Node:\n",
    "        def __init__(self, key, item, next):\n",
    "            self.key = key\n",
    "            self.item = item\n",
    "            self.next = next\n",
    "            \n",
    "    def __init__(self, size):\n",
    "        self.size = size  # 해시테이블의 크기\n",
    "        self.a = [None] * size  # 항목을 저장하는 리스트; 해시값을 index로 사용함\n",
    "    \n",
    "    def hash(self, key):  # 해시함수; 키값을 해시값으로 바꿔줌\n",
    "        return key % self.size\n",
    "    \n",
    "    def put(self, key, item):  # 임의의 키값을 가지는 항목 삽입하기\n",
    "        i = self.hash(key)\n",
    "        p = self.a[i]\n",
    "        while p != None:\n",
    "            if key == p.key:\n",
    "                p.data = data\n",
    "                return\n",
    "            p = p.next\n",
    "        self.a[i] = self.Node(key, item, self.a[i])  # 단순연결리스트 맨 앞에 삽입하기\n",
    "        \n",
    "    def get(self, key):  # 임의의 키값을 가지는 항목 반환하기\n",
    "        i = self.hash(key)\n",
    "        p = self.a[i]\n",
    "        while p != None:\n",
    "            if key == p.key:\n",
    "                return p.item\n",
    "            p = p.next\n",
    "        return None\n",
    "    \n",
    "    def print_table(self):\n",
    "        for i in range(self.size):\n",
    "            print('%2d' % i, end='')\n",
    "            p = self.a[i]\n",
    "            while p != None:\n",
    "                print(' -> [', p.key, ', ', p.item, ']', sep='', end='')\n",
    "                p = p.next\n",
    "            print()"
   ]
  },
  {
   "cell_type": "code",
   "execution_count": 15,
   "metadata": {},
   "outputs": [
    {
     "name": "stdout",
     "output_type": "stream",
     "text": [
      " 0\n",
      " 1\n",
      " 2\n",
      " 3 -> [55, D]\n",
      " 4\n",
      " 5 -> [18, C]\n",
      " 6\n",
      " 7\n",
      " 8\n",
      " 9 -> [35, F] -> [22, E]\n",
      "10\n",
      "11 -> [63, H] -> [50, G] -> [37, B]\n",
      "12 -> [25, A]\n"
     ]
    }
   ],
   "source": [
    "t = Chaining(13)\n",
    "t.put(25, 'A')\n",
    "t.put(37, 'B')\n",
    "t.put(18, 'C')\n",
    "t.put(55, 'D')\n",
    "t.put(22, 'E')\n",
    "t.put(35, 'F')\n",
    "t.put(50, 'G')\n",
    "t.put(63, 'H')\n",
    "t.print_table()"
   ]
  },
  {
   "cell_type": "code",
   "execution_count": 16,
   "metadata": {},
   "outputs": [
    {
     "name": "stdout",
     "output_type": "stream",
     "text": [
      "D\n",
      "None\n"
     ]
    }
   ],
   "source": [
    "print(t.get(55))\n",
    "print(t.get(99))"
   ]
  }
 ],
 "metadata": {
  "kernelspec": {
   "display_name": "Python 3",
   "language": "python",
   "name": "python3"
  },
  "language_info": {
   "codemirror_mode": {
    "name": "ipython",
    "version": 3
   },
   "file_extension": ".py",
   "mimetype": "text/x-python",
   "name": "python",
   "nbconvert_exporter": "python",
   "pygments_lexer": "ipython3",
   "version": "3.7.6"
  }
 },
 "nbformat": 4,
 "nbformat_minor": 4
}
