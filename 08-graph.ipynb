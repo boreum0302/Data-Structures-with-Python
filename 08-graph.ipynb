{
 "cells": [
  {
   "cell_type": "markdown",
   "metadata": {},
   "source": [
    "# Depth First Search"
   ]
  },
  {
   "cell_type": "code",
   "execution_count": 1,
   "metadata": {},
   "outputs": [],
   "source": [
    " def DFS(adj_list):  # adj_list는 인접리스트\n",
    "        \n",
    "    visited = [False] * len(adj_list)  # visited[i]의 값은 정점 i를 방문했다면 True이고 아니면 False\n",
    "    dfs_list = []  # 방문한 정점들이 담길 리스트\n",
    "       \n",
    "    def dfs(v):  # 정점 v에서부터 탐색 시작하기\n",
    "        visited[v] = True  # 정점 v를 방문하기\n",
    "        dfs_list.append(v)  # 정점 v를 dfs_list에 담기\n",
    "        for adj_v in adj_list[v]:  # 방금 방문한 정점 v에 인접한 정점들 adj_v에 대해서\n",
    "            if not visited[adj_v]:  # adj_v를 아직 방문하지 않았다면\n",
    "                dfs(adj_v)  # adj_v에서부터 다시 탐색 시작하기\n",
    "        \n",
    "    for v in range(len(adj_list)):\n",
    "        if not visited[v]:\n",
    "            dfs(v)\n",
    "            \n",
    "    return dfs_list"
   ]
  },
  {
   "cell_type": "code",
   "execution_count": 2,
   "metadata": {},
   "outputs": [],
   "source": [
    "DFS([[2, 1], [3, 0], [3, 0], [9, 8, 2, 1], [5], [7, 6, 4], [7, 5], [6, 5], [3], [3]])"
   ]
  },
  {
   "cell_type": "markdown",
   "metadata": {},
   "source": [
    "#### Finding Connected Component"
   ]
  },
  {
   "cell_type": "code",
   "execution_count": 1,
   "metadata": {},
   "outputs": [],
   "source": [
    "def CC(adj_list):  # adj_list는 인접리스트\n",
    "\n",
    "    visited = [False] * len(adj_list)  # visited[i]의 값은 정점 i를 방문했다면 True이고 아니면 False\n",
    "    CClist = []  # 연결성분들이 담길 리스트\n",
    "        \n",
    "    def dfs(v):  # 정점 v에서부터 탐색 시작하기\n",
    "        visited[v] = True  # 정점 v를 방문하기\n",
    "        cclist.append(v)  # 정점 v를 연결성분에 담기\n",
    "        for adj_v in adj_list[v]:  # 방금 방문한 정점 v에 인접한 정점들 adj_v에 대해서\n",
    "            if not visited[adj_v]:  # adj_v를 아직 방문하지 않았다면\n",
    "                dfs(adj_v)  # adj_v에서부터 다시 탐색 시작하기\n",
    "        # 정점 v와 연결된 정점들을 전부 방문했다면 함수는 더 이상 실행되지 않음\n",
    "        \n",
    "    for v in range(len(adj_list)):\n",
    "        if not visited[v]:  # 정점 v를 아직 방문하지 않았다면\n",
    "            cclist = []  # 정점 v가 속해 있는 연결성분을 담을 리스트 초기화하기\n",
    "            dfs(v)  # 정점 v와 연결된 정점들을 전부 방문하여 연결성분에 담기\n",
    "            CClist.append(cclist)  # CClist에 정점 v가 속해 있는 연결성분을 담기\n",
    "        \n",
    "    return CClist"
   ]
  },
  {
   "cell_type": "code",
   "execution_count": 2,
   "metadata": {},
   "outputs": [
    {
     "data": {
      "text/plain": [
       "[[0, 3, 6, 1, 10, 8, 12, 11, 2, 7], [4, 13, 9], [5, 14]]"
      ]
     },
     "execution_count": 2,
     "metadata": {},
     "output_type": "execute_result"
    }
   ],
   "source": [
    "CC([[3], [6, 10], [7, 11], [0, 6, 8], [13], [14], [1, 3, 8, 10, 11], [2, 11], [3, 6, 10, 12], [13], [1, 6, 8], [2, 6, 7], [8], [4, 9], [5]])"
   ]
  },
  {
   "cell_type": "markdown",
   "metadata": {},
   "source": [
    "#### Finding Strongly Connected Component"
   ]
  },
  {
   "cell_type": "code",
   "execution_count": 5,
   "metadata": {},
   "outputs": [],
   "source": [
    "def Kosaraju(adj_matrix):  # adj_list는 인접행렬\n",
    "    \n",
    "    N, stack, BCClist = len(adj_matrix), [], []\n",
    "    \n",
    "    def dfs(v):\n",
    "        visited[v] = True\n",
    "        for adj_v in range(N):\n",
    "            if adj_matrix[v][adj_v] == 1 and not visited[adj_v]:\n",
    "                dfs(adj_v)\n",
    "        stack.append(v)\n",
    "        \n",
    "    def rev_dfs(v):\n",
    "        visited[v] = True\n",
    "        for adj_v in range(N):\n",
    "            if adj_matrix[adj_v][v] == 1 and not visited[adj_v]:\n",
    "                rev_dfs(adj_v)\n",
    "        bcclist.append(v)  \n",
    "        \n",
    "    visited = [False] * N\n",
    "    for v in range(N):\n",
    "        if not visited[v]:\n",
    "            dfs(v)\n",
    "    \n",
    "    visited = [False] * N\n",
    "    while stack:\n",
    "        v = stack.pop()\n",
    "        if not visited[v]:\n",
    "            bcclist = []\n",
    "            rev_dfs(v)\n",
    "            BCClist.append(bcclist)\n",
    "    \n",
    "    return BCClist"
   ]
  },
  {
   "cell_type": "code",
   "execution_count": 6,
   "metadata": {},
   "outputs": [],
   "source": [
    "Kosaraju([[0, 0, 1, 0, 0, 0],\n",
    "          [0, 0, 1, 0, 0, 0],\n",
    "          [0, 0, 0, 0, 1, 1],\n",
    "          [0, 1, 0, 0, 0, 0],\n",
    "          [0, 0, 1, 0, 0, 1],\n",
    "          [0, 0, 0, 1, 0, 0]])"
   ]
  },
  {
   "cell_type": "markdown",
   "metadata": {},
   "source": [
    "#### Topological Sort"
   ]
  },
  {
   "cell_type": "code",
   "execution_count": 7,
   "metadata": {},
   "outputs": [],
   "source": [
    "def TS(adj_list):  # adj_list는 인접리스트\n",
    "\n",
    "    visited = [False] * len(adj_list)  # visited[i]의 값은 정점 i를 방문했다면 True이고 아니면 False\n",
    "    TSlist = []  # 방문한 정점들이 담길 리스트\n",
    "    \n",
    "    def dfs(v):  # 정점 v에서부터 탐색 시작하기\n",
    "        visited[v] = True  # 정점 v를 방문하기\n",
    "        for adj_v in adj_list[v]:  # 정점 v에서 출발하여 달할 수 있는 정점들 adj_v에 대해\n",
    "            if not visited[adj_v]:  # adj_v를 아직 방문하지 않았다면 \n",
    "                dfs(adj_v)  # adj_v에서부터 다시 탐색 시작하기\n",
    "        TSlist.append(v)  # 정점 v에서 출발하여 달할 수 있는 정점들을 전부 방문했다면 리스트에 정점 v 담기\n",
    "        \n",
    "    for v in range(len(adj_list)):\n",
    "        if not visited[v]:\n",
    "            dfs(v)\n",
    "    \n",
    "    return list(reversed(TSlist))"
   ]
  },
  {
   "cell_type": "code",
   "execution_count": 8,
   "metadata": {},
   "outputs": [],
   "source": [
    "TS([[1], [3, 4], [0, 1], [6], [5], [7], [7], [8], []])"
   ]
  },
  {
   "cell_type": "markdown",
   "metadata": {},
   "source": [
    "# Breadth First Search"
   ]
  },
  {
   "cell_type": "code",
   "execution_count": 3,
   "metadata": {},
   "outputs": [],
   "source": [
    "def BFS(adj_list):  # adj_list는 인접리스트\n",
    "    \n",
    "    visited = [False] * len(adj_list)  # visited[i]의 값은 정점 i를 방문했다면 True이고 아니면 False\n",
    "    bfs_list = []  # 방문한 정점들이 담길 리스트\n",
    "    \n",
    "    def bfs(v):  # 정점 v에서부터 탐색 시작하기\n",
    "        queue = [v]  # 앞으로 방문할 정점들을 담아둘 큐 만들기 (앞에 있을수록 먼저 방문해야 함)\n",
    "        visited[v] = True  # 정점 v를 방문하기\n",
    "        while len(queue) > 0:  # 큐가 빌 때 까지\n",
    "            v = queue.pop(0)  # 큐에서 맨 앞에 있던 정점 v를 방문하기\n",
    "            bfs_list.append(v)  # 방금 방문한 정점 v를 bfs_list에 담기\n",
    "            for adj_v in adj_list[v]:  # 방금 방문한 정점 v에 인접한 정점들 adj_v에 대해\n",
    "                if not visited[adj_v]:  # adj_v를 아직 방문하지 않았다면\n",
    "                    visited[adj_v] = True  # adj_v를 방문한 다음\n",
    "                    queue.append(adj_v)  # 큐에 담기\n",
    "    \n",
    "    for v in range(len(adj_list)):\n",
    "        if not visited[v]:\n",
    "            bfs(v)\n",
    "    \n",
    "    return bfs_list"
   ]
  },
  {
   "cell_type": "code",
   "execution_count": 4,
   "metadata": {
    "scrolled": true
   },
   "outputs": [
    {
     "data": {
      "text/plain": [
       "[0, 2, 1, 3, 9, 8, 4, 5, 7, 6]"
      ]
     },
     "execution_count": 4,
     "metadata": {},
     "output_type": "execute_result"
    }
   ],
   "source": [
    "BFS([[2, 1], [3, 0], [3, 0], [9, 8, 2, 1], [5], [7, 6, 4], [7, 5], [6, 5], [3], [3]])"
   ]
  },
  {
   "cell_type": "markdown",
   "metadata": {},
   "source": [
    "# Minimum Spanning Tree"
   ]
  },
  {
   "cell_type": "markdown",
   "metadata": {},
   "source": [
    "#### Kruskal Algorithm"
   ]
  },
  {
   "cell_type": "code",
   "execution_count": 11,
   "metadata": {},
   "outputs": [],
   "source": [
    "def Kruskal(graph):  # graph는 (v1, v2, weight)의 list\n",
    "    \n",
    "    graph.sort(key = lambda x: x[2])\n",
    "    N = max(list(map(lambda x: max(x[0], x[1]), graph))) + 1\n",
    "    \n",
    "    disj_set = []\n",
    "    for i in range(N):\n",
    "        disj_set.append(i)\n",
    "        \n",
    "    def find(v):\n",
    "        if v != disj_set[v]:\n",
    "            disj_set[v] = find(disj_set[v])\n",
    "        return disj_set[v]\n",
    "    \n",
    "    def union(v1, v2):\n",
    "        root1, root2 = find(v1), find(v2)\n",
    "        disj_set[root2] = root1\n",
    "        \n",
    "    mst, edges, cost = [], 0, 0\n",
    "    while True:\n",
    "        if edges == N - 1:\n",
    "            break\n",
    "        v1, v2, weight = graph.pop(0)\n",
    "        if find(v1) != find(v2):\n",
    "            union(v1, v2)\n",
    "            mst.append([v1, v2])\n",
    "            cost += weight\n",
    "            edges += 1\n",
    "    \n",
    "    return mst, cost"
   ]
  },
  {
   "cell_type": "code",
   "execution_count": 12,
   "metadata": {},
   "outputs": [
    {
     "data": {
      "text/plain": [
       "([[4, 6], [2, 5], [1, 6], [3, 5], [5, 6], [0, 1]], 25)"
      ]
     },
     "execution_count": 12,
     "metadata": {},
     "output_type": "execute_result"
    }
   ],
   "source": [
    "Kruskal([(0, 1, 9), (0, 2, 10), (1, 3, 10), (1, 4, 5),\n",
    "         (1, 6, 3), (2, 3, 9), (2, 4, 7), (2, 5, 2),\n",
    "         (3, 5, 4), (3, 6, 8), (4, 6, 1), (5, 6, 6)])"
   ]
  },
  {
   "cell_type": "markdown",
   "metadata": {},
   "source": [
    "#### Prim"
   ]
  },
  {
   "cell_type": "code",
   "execution_count": 13,
   "metadata": {},
   "outputs": [],
   "source": [
    "import sys\n",
    "\n",
    "def Prim(graph, start):  # graph[v]는 (adj_v, weight)의 list\n",
    "    \n",
    "    N = len(graph)\n",
    "    visited = [False] * N\n",
    "    D, previous = [sys.maxsize] * N, [None] * N\n",
    "    D[start], previous[start] = 0, start\n",
    "    \n",
    "    edges = 0\n",
    "    while True:\n",
    "        \n",
    "        if edges == N - 1:\n",
    "            break\n",
    "        \n",
    "        min_vertex = -1\n",
    "        min_value = sys.maxsize\n",
    "        for w in range(N):\n",
    "            if not visited[w] and D[w] < min_value:\n",
    "                min_vertex = w\n",
    "                min_value = D[w]\n",
    "        visited[min_vertex] = True\n",
    "        edges += 1\n",
    "        \n",
    "        for adj_v, weight in graph[min_vertex]:\n",
    "            if not visited[adj_v]:\n",
    "                if weight < D[adj_v]:\n",
    "                    D[adj_v] = weight\n",
    "                    previous[adj_v] = min_vertex\n",
    "    \n",
    "    mst = [[v, previous[v]] for v in range(1, N)]\n",
    "    cost = sum(D[1:])\n",
    "    \n",
    "    return mst, cost"
   ]
  },
  {
   "cell_type": "code",
   "execution_count": 14,
   "metadata": {},
   "outputs": [
    {
     "data": {
      "text/plain": [
       "([[1, 0], [2, 5], [3, 5], [4, 6], [5, 6], [6, 1]], 25)"
      ]
     },
     "execution_count": 14,
     "metadata": {},
     "output_type": "execute_result"
    }
   ],
   "source": [
    "Prim([[(1, 9), (2, 10)],\n",
    "      [(0, 9), (3, 10), (4, 5), (6, 3)],\n",
    "      [(0, 10), (3, 9), (4, 7), (5, 2)],\n",
    "      [(1, 10), (2, 9), (5, 4), (6, 8)],\n",
    "      [(1, 5),  (2, 7), (6, 1)],\n",
    "      [(2, 2),  (3, 4), (6, 6)],\n",
    "      [(1, 3),  (3, 8), (4, 1), (5, 6)]], start = 0)"
   ]
  },
  {
   "cell_type": "markdown",
   "metadata": {},
   "source": [
    "# Shortest Path"
   ]
  },
  {
   "cell_type": "markdown",
   "metadata": {},
   "source": [
    "#### Dijkstra"
   ]
  },
  {
   "cell_type": "code",
   "execution_count": 15,
   "metadata": {},
   "outputs": [],
   "source": [
    "import sys\n",
    "\n",
    "def Dijkstra(graph, start):  # graph[v]는 (adj_v, weight)의 list\n",
    "    \n",
    "    N = len(graph)\n",
    "    visited = [False] * N\n",
    "    D, previous = [sys.maxsize] * N, [None] * N\n",
    "    D[start], previous[start] = 0, start\n",
    "    \n",
    "    count = 1\n",
    "    while True:\n",
    "        \n",
    "        if count == N:\n",
    "            break\n",
    "        \n",
    "        min_vertex = -1\n",
    "        min_value = sys.maxsize\n",
    "        for v in range(N):\n",
    "            if not visited[v] and D[v] < min_value:\n",
    "                min_vertex = v\n",
    "                min_value = D[v]\n",
    "        visited[min_vertex] = True\n",
    "        count += 1\n",
    "        \n",
    "        for adj_v, weight in graph[min_vertex]:\n",
    "            if not visited[adj_v]:\n",
    "                if D[min_vertex] + weight < D[adj_v]:\n",
    "                    D[adj_v] = D[min_vertex] + weight\n",
    "                    previous[adj_v] = min_vertex\n",
    "    \n",
    "    path = []\n",
    "    for v in range(N):\n",
    "        \n",
    "        v_path = []\n",
    "        \n",
    "        if D[v] == sys.maxsize:\n",
    "            D[v] = None\n",
    "            v_path.append(None)\n",
    "        \n",
    "        prev_v = v\n",
    "        while prev_v != start:\n",
    "            v_path.append(prev_v)\n",
    "            prev_v = previous[prev_v]\n",
    "        v_path.append(start)\n",
    "        v_path.reverse()\n",
    "        \n",
    "        path.append(v_path)\n",
    "    \n",
    "    return list(zip(path, D))"
   ]
  },
  {
   "cell_type": "code",
   "execution_count": 16,
   "metadata": {},
   "outputs": [
    {
     "data": {
      "text/plain": [
       "[([0], 0),\n",
       " ([0, 1], 1),\n",
       " ([0, 1, 2], 5),\n",
       " ([0, 3], 2),\n",
       " ([0, 1, 4], 2),\n",
       " ([0, 1, 2, 5], 6),\n",
       " ([0, 1, 4, 6], 4),\n",
       " ([0, 1, 4, 6, 7], 5)]"
      ]
     },
     "execution_count": 16,
     "metadata": {},
     "output_type": "execute_result"
    }
   ],
   "source": [
    "Dijkstra([[(1, 1), (3, 2)],\n",
    "         [(0, 1), (2, 4), (3, 3), (4, 1), (5, 6)],\n",
    "         [(1, 4), (5, 1), (6, 1), (7, 2)],\n",
    "         [(0, 2), (1, 3), (4, 5)],\n",
    "         [(1, 1), (3, 5), (6, 2)],\n",
    "         [(1, 6), (2, 1), (7, 9)],\n",
    "         [(2, 1), (4, 2), (7, 1)],\n",
    "         [(2, 2), (5, 9), (6, 1)]], start = 0)"
   ]
  },
  {
   "cell_type": "markdown",
   "metadata": {},
   "source": [
    "#### Floyd-Warshall"
   ]
  },
  {
   "cell_type": "code",
   "execution_count": 17,
   "metadata": {},
   "outputs": [],
   "source": [
    "import sys\n",
    "\n",
    "def floyd_warshall(adj_matrix):\n",
    "    \n",
    "    N = len(adj_matrix)\n",
    "    \n",
    "    for count in range(N):\n",
    "        for i in range(N):\n",
    "            for j in range(N):\n",
    "                adj_matrix[i][j] = min(adj_matrix[i][j], adj_matrix[i][count] + adj_matrix[count][j])\n",
    "\n",
    "    return adj_matrix"
   ]
  },
  {
   "cell_type": "code",
   "execution_count": 18,
   "metadata": {},
   "outputs": [
    {
     "data": {
      "text/plain": [
       "[[0, 1, 2, 3, 4],\n",
       " [0, 0, 1, 2, 3],\n",
       " [-1, -1, 0, 1, 2],\n",
       " [-2, -1, 0, 0, 2],\n",
       " [-3, -3, -2, -1, 0]]"
      ]
     },
     "execution_count": 18,
     "metadata": {},
     "output_type": "execute_result"
    }
   ],
   "source": [
    "INF = sys.maxsize\n",
    "floyd_warshall([[0, 4, 2, 5, INF],\n",
    "                [INF, 0, 1, INF, 4],\n",
    "                [1, 3, 0, 1, 2],\n",
    "                [-2, INF, INF, 0, 2],\n",
    "                [INF, -3, 3, 1, 0]])"
   ]
  }
 ],
 "metadata": {
  "kernelspec": {
   "display_name": "Python 3",
   "language": "python",
   "name": "python3"
  },
  "language_info": {
   "codemirror_mode": {
    "name": "ipython",
    "version": 3
   },
   "file_extension": ".py",
   "mimetype": "text/x-python",
   "name": "python",
   "nbconvert_exporter": "python",
   "pygments_lexer": "ipython3",
   "version": "3.7.6"
  }
 },
 "nbformat": 4,
 "nbformat_minor": 4
}
