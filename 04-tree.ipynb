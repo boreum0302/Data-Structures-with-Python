{
 "cells": [
  {
   "cell_type": "markdown",
   "metadata": {},
   "source": [
    "# Programs"
   ]
  },
  {
   "cell_type": "markdown",
   "metadata": {},
   "source": [
    "#### 4.1 BinaryTree"
   ]
  },
  {
   "cell_type": "code",
   "execution_count": 55,
   "metadata": {},
   "outputs": [],
   "source": [
    "class BinaryTree:\n",
    "\n",
    "    class EmptyError(Exception):\n",
    "        pass\n",
    "    \n",
    "    class Node:\n",
    "        def __init__(self, item, left=None, right=None):\n",
    "            self.item = item\n",
    "            self.left = left\n",
    "            self.right = right\n",
    "    \n",
    "    def __init__(self):\n",
    "        self.root = None\n",
    "        \n",
    "    def preorder(self, n):  # Node, Left, Right\n",
    "        if n != None:\n",
    "            print(str(n.item), end=' ')\n",
    "            if n.left:\n",
    "                self.preorder(n.left)\n",
    "            if n.right:\n",
    "                self.preorder(n.right)\n",
    "            \n",
    "    def postorder(self, n): # Left, Right, Node\n",
    "        if n != None:\n",
    "            if n.left:\n",
    "                self.postorder(n.left)\n",
    "            if n.right:\n",
    "                self.postorder(n.right)\n",
    "            print(str(n.item), end=' ')\n",
    "    \n",
    "    def inorder(self, n): # Left, Node, Right\n",
    "        if n != None:\n",
    "            if n.left:\n",
    "                self.inorder(n.left)\n",
    "            print(str(n.item), end=' ')\n",
    "            if n.right:\n",
    "                self.inorder(n.right)\n",
    "                \n",
    "    def levelorder(self, n):\n",
    "        if n == None:\n",
    "            return\n",
    "        q = [n]\n",
    "        while len(q) > 0:\n",
    "            node = q.pop(0)\n",
    "            print(node.item, end=' ')\n",
    "            if node.left != None:\n",
    "                q.append(node.left)\n",
    "            if node.right != None:\n",
    "                q.append(node.right)\n",
    "                   \n",
    "    def height(self, root):\n",
    "        if root == None:\n",
    "            return 0\n",
    "        return max(self.height(root.left), self.height(root.right)) + 1"
   ]
  },
  {
   "cell_type": "markdown",
   "metadata": {},
   "source": [
    "#### 4.3 BinaryHeap"
   ]
  },
  {
   "cell_type": "code",
   "execution_count": 110,
   "metadata": {},
   "outputs": [],
   "source": [
    "class BHeap:\n",
    "    \n",
    "    def __init__(self, a):\n",
    "        self.a = a\n",
    "        self.N = len(a) - 1\n",
    "    \n",
    "    def downheap(self, i):\n",
    "        while 2 * i <= self.N:\n",
    "            k = 2 * i\n",
    "            if k < self.N and self.a[k] > self.a[k + 1]:\n",
    "                k += 1\n",
    "            if self.a[i] < self.a[k]:\n",
    "                break\n",
    "            self.a[i], self.a[k] = self.a[k], self.a[i]\n",
    "            i = k\n",
    "    \n",
    "    def upheap(self, j):\n",
    "        while j > 1 and self.a[j//2] > self.a[j]:\n",
    "            self.a[j], self.a[j//2] = self.a[j//2], self.a[j]\n",
    "            j = j//2\n",
    "            \n",
    "    def create_heap(self):  # heapq.heapify()\n",
    "        for i in range(self.N//2, 0, -1):\n",
    "            self.downheap(i)\n",
    "            \n",
    "    def insert(self, key_value):  # heapq.heappush()\n",
    "        self.N += 1\n",
    "        self.a.append(key_value)\n",
    "        self.upheap(self.N)\n",
    "        \n",
    "    def delete_min(self):  # heapq.heappop()\n",
    "        if self.N == 0:\n",
    "            raise EmptyError('Underflow')\n",
    "        else:\n",
    "            minimum = self.a[1]\n",
    "            self.a[1], self.a[-1] = self.a[-1], self.a[1]\n",
    "            del self.a[-1]\n",
    "            self.N -= 1\n",
    "            self.downheap(1)\n",
    "            return minimum\n",
    "        \n",
    "    def print_heap(self):\n",
    "        print(self.a[1:])"
   ]
  }
 ],
 "metadata": {
  "kernelspec": {
   "display_name": "Python 3",
   "language": "python",
   "name": "python3"
  },
  "language_info": {
   "codemirror_mode": {
    "name": "ipython",
    "version": 3
   },
   "file_extension": ".py",
   "mimetype": "text/x-python",
   "name": "python",
   "nbconvert_exporter": "python",
   "pygments_lexer": "ipython3",
   "version": "3.7.6"
  }
 },
 "nbformat": 4,
 "nbformat_minor": 4
}
