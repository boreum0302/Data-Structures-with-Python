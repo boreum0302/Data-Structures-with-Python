{
 "cells": [
  {
   "cell_type": "markdown",
   "metadata": {},
   "source": [
    "# Depth First Search"
   ]
  },
  {
   "cell_type": "code",
   "execution_count": 1,
   "metadata": {},
   "outputs": [],
   "source": [
    " def DFS(adj_list):  # adj_list는 인접리스트임\n",
    "        \n",
    "    visited = [False] * len(adj_list)  # visited[i]의 값은 정점 i를 방문했다면 True이고 아니면 False임\n",
    "    dfs_list = []  # 방문한 정점들이 담길 리스트임\n",
    "       \n",
    "    def dfs(v):  # 정점 v에서부터 탐색 시작하기\n",
    "    \n",
    "        visited[v] = True  # 정점 v를 방문하기\n",
    "        dfs_list.append(v)  # 정점 v를 dfs_list에 담기\n",
    "        \n",
    "        for adj_v in adj_list[v]:  # 방금 방문한 정점 v에 인접한 정점들 adj_v에 대해서\n",
    "            if not visited[adj_v]:  # adj_v를 아직 방문하지 않았다면\n",
    "                dfs(adj_v)  # adj_v에서부터 다시 탐색 시작하기\n",
    "        \n",
    "    for v in range(len(adj_list)):\n",
    "        if not visited[v]:\n",
    "            dfs(v)\n",
    "            \n",
    "    return dfs_list"
   ]
  },
  {
   "cell_type": "code",
   "execution_count": 2,
   "metadata": {},
   "outputs": [
    {
     "data": {
      "text/plain": [
       "[0, 2, 3, 9, 8, 1, 4, 5, 7, 6]"
      ]
     },
     "execution_count": 2,
     "metadata": {},
     "output_type": "execute_result"
    }
   ],
   "source": [
    "DFS([[2, 1], [3, 0], [3, 0], [9, 8, 2, 1], [5], [7, 6, 4], [7, 5], [6, 5], [3], [3]])"
   ]
  },
  {
   "cell_type": "markdown",
   "metadata": {},
   "source": [
    "#### Finding Connected Component"
   ]
  },
  {
   "cell_type": "code",
   "execution_count": 3,
   "metadata": {},
   "outputs": [],
   "source": [
    "def CC(adj_list):  # adj_list는 인접리스트임\n",
    "\n",
    "    visited = [False] * len(adj_list)  # visited[i]의 값은 정점 i를 방문했다면 True이고 아니면 False임\n",
    "    CClist = []  # 연결성분들이 담길 리스트임\n",
    "        \n",
    "    def dfs(v):  # 정점 v에서부터 탐색 시작하기\n",
    "    \n",
    "        visited[v] = True  # 정점 v를 방문하기\n",
    "        cclist.append(v)  # 정점 v를 연결성분에 담기\n",
    "        \n",
    "        for adj_v in adj_list[v]:  # 방금 방문한 정점 v에 인접한 정점들 adj_v에 대해서\n",
    "            if not visited[adj_v]:  # adj_v를 아직 방문하지 않았다면\n",
    "                dfs(adj_v)  # adj_v에서부터 다시 탐색 시작하기\n",
    "                \n",
    "        # 정점 v와 연결된 정점들을 전부 방문했다면 함수는 더 이상 실행되지 않음\n",
    "        \n",
    "    for v in range(len(adj_list)):\n",
    "        if not visited[v]:  # 정점 v를 아직 방문하지 않았다면\n",
    "            cclist = []  # 정점 v가 속해 있는 연결성분을 담을 리스트 초기화하기\n",
    "            dfs(v)  # 정점 v와 연결된 정점들을 전부 방문하여 연결성분에 담기\n",
    "            CClist.append(cclist)  # CClist에 정점 v가 속해 있는 연결성분을 담기\n",
    "        \n",
    "    return CClist"
   ]
  },
  {
   "cell_type": "code",
   "execution_count": 4,
   "metadata": {},
   "outputs": [
    {
     "data": {
      "text/plain": [
       "[[0, 3, 6, 1, 10, 8, 12, 11, 2, 7], [4, 13, 9], [5, 14]]"
      ]
     },
     "execution_count": 4,
     "metadata": {},
     "output_type": "execute_result"
    }
   ],
   "source": [
    "CC([[3], [6, 10], [7, 11], [0, 6, 8], [13], [14], [1, 3, 8, 10, 11], [2, 11], [3, 6, 10, 12], [13], [1, 6, 8], [2, 6, 7], [8], [4, 9], [5]])"
   ]
  },
  {
   "cell_type": "markdown",
   "metadata": {},
   "source": [
    "#### Finding Strongly Connected Component"
   ]
  },
  {
   "cell_type": "code",
   "execution_count": 5,
   "metadata": {},
   "outputs": [],
   "source": [
    "def Kosaraju(adj_matrix):  # adj_list는 인접행렬임\n",
    "    \n",
    "    N, stack, BCClist = len(adj_matrix), [], []\n",
    "    \n",
    "    def dfs(v):\n",
    "        visited[v] = True\n",
    "        for adj_v in range(N):\n",
    "            if adj_matrix[v][adj_v] == 1 and not visited[adj_v]:\n",
    "                dfs(adj_v)\n",
    "        stack.append(v)\n",
    "        \n",
    "    def rev_dfs(v):\n",
    "        visited[v] = True\n",
    "        for adj_v in range(N):\n",
    "            if adj_matrix[adj_v][v] == 1 and not visited[adj_v]:\n",
    "                rev_dfs(adj_v)\n",
    "        bcclist.append(v)  \n",
    "        \n",
    "    visited = [False] * N\n",
    "    for v in range(N):\n",
    "        if not visited[v]:\n",
    "            dfs(v)\n",
    "    \n",
    "    visited = [False] * N\n",
    "    while stack:\n",
    "        v = stack.pop()\n",
    "        if not visited[v]:\n",
    "            bcclist = []\n",
    "            rev_dfs(v)\n",
    "            BCClist.append(bcclist)\n",
    "    \n",
    "    return BCClist"
   ]
  },
  {
   "cell_type": "code",
   "execution_count": 6,
   "metadata": {},
   "outputs": [
    {
     "data": {
      "text/plain": [
       "[[0], [4, 5, 3, 1, 2]]"
      ]
     },
     "execution_count": 6,
     "metadata": {},
     "output_type": "execute_result"
    }
   ],
   "source": [
    "Kosaraju([[0, 0, 1, 0, 0, 0],\n",
    "          [0, 0, 1, 0, 0, 0],\n",
    "          [0, 0, 0, 0, 1, 1],\n",
    "          [0, 1, 0, 0, 0, 0],\n",
    "          [0, 0, 1, 0, 0, 1],\n",
    "          [0, 0, 0, 1, 0, 0]])"
   ]
  },
  {
   "cell_type": "markdown",
   "metadata": {},
   "source": [
    "#### Topological Sort"
   ]
  },
  {
   "cell_type": "code",
   "execution_count": 7,
   "metadata": {},
   "outputs": [],
   "source": [
    "def TS(adj_list):  # adj_list는 인접리스트임\n",
    "\n",
    "    visited = [False] * len(adj_list)  # visited[i]의 값은 정점 i를 방문했다면 True이고 아니면 False임\n",
    "    TSlist = []  # 방문한 정점들이 담길 리스트임\n",
    "    \n",
    "    def dfs(v):  # 정점 v에서부터 탐색 시작하기\n",
    "    \n",
    "        visited[v] = True  # 정점 v를 방문하기\n",
    "        \n",
    "        for adj_v in adj_list[v]:  # 정점 v에서 출발하여 달할 수 있는 정점들 adj_v에 대해\n",
    "            if not visited[adj_v]:  # adj_v를 아직 방문하지 않았다면 \n",
    "                dfs(adj_v)  # adj_v에서부터 다시 탐색 시작하기\n",
    "                \n",
    "        TSlist.append(v)  # 정점 v에서 출발하여 달할 수 있는 정점들을 전부 방문했다면 리스트에 정점 v 담기\n",
    "        \n",
    "    for v in range(len(adj_list)):\n",
    "        if not visited[v]:\n",
    "            dfs(v)\n",
    "    \n",
    "    return list(reversed(TSlist))"
   ]
  },
  {
   "cell_type": "code",
   "execution_count": 8,
   "metadata": {},
   "outputs": [
    {
     "data": {
      "text/plain": [
       "[2, 0, 1, 4, 5, 3, 6, 7, 8]"
      ]
     },
     "execution_count": 8,
     "metadata": {},
     "output_type": "execute_result"
    }
   ],
   "source": [
    "TS([[1], [3, 4], [0, 1], [6], [5], [7], [7], [8], []])"
   ]
  },
  {
   "cell_type": "markdown",
   "metadata": {},
   "source": [
    "# Breadth First Search"
   ]
  },
  {
   "cell_type": "code",
   "execution_count": 9,
   "metadata": {},
   "outputs": [],
   "source": [
    "def BFS(adj_list):  # adj_list는 인접리스트임\n",
    "    \n",
    "    visited = [False] * len(adj_list)  # visited[i]의 값은 정점 i를 방문했다면 True이고 아니면 False\n",
    "    bfs_list = []  # 방문한 정점들이 담길 리스트임\n",
    "    \n",
    "    def bfs(v):  # 정점 v에서부터 탐색 시작하기\n",
    "    \n",
    "        queue = [v]  # 앞으로 방문할 정점들을 담아둘 큐 만들기\n",
    "        visited[v] = True  # 정점 v를 방문하기\n",
    "        \n",
    "        while len(queue) > 0:  # 큐가 빌 때 까지\n",
    "        \n",
    "            v = queue.pop(0)  # 큐에서 맨 앞에 있던 정점 v를 방문하기\n",
    "            bfs_list.append(v)  # 방금 방문한 정점 v를 bfs_list에 담기\n",
    "            \n",
    "            for adj_v in adj_list[v]:  # 방금 방문한 정점 v에 인접한 정점들 adj_v에 대해\n",
    "                if not visited[adj_v]:  # adj_v를 아직 방문하지 않았다면\n",
    "                    visited[adj_v] = True  # adj_v를 방문한 다음\n",
    "                    queue.append(adj_v)  # 큐에 담기\n",
    "    \n",
    "    for v in range(len(adj_list)):\n",
    "        if not visited[v]:\n",
    "            bfs(v)\n",
    "    \n",
    "    return bfs_list"
   ]
  },
  {
   "cell_type": "code",
   "execution_count": 10,
   "metadata": {
    "scrolled": true
   },
   "outputs": [
    {
     "data": {
      "text/plain": [
       "[0, 2, 1, 3, 9, 8, 4, 5, 7, 6]"
      ]
     },
     "execution_count": 10,
     "metadata": {},
     "output_type": "execute_result"
    }
   ],
   "source": [
    "BFS([[2, 1], [3, 0], [3, 0], [9, 8, 2, 1], [5], [7, 6, 4], [7, 5], [6, 5], [3], [3]])"
   ]
  },
  {
   "cell_type": "markdown",
   "metadata": {},
   "source": [
    "# Minimum Spanning Tree"
   ]
  },
  {
   "cell_type": "markdown",
   "metadata": {},
   "source": [
    "#### Kruskal Algorithm"
   ]
  },
  {
   "cell_type": "code",
   "execution_count": 11,
   "metadata": {},
   "outputs": [],
   "source": [
    "def Kruskal(graph, N):  # graph는 (정점1, 정점2, 가중치)의 리스트, N은 정점의 개수임\n",
    "\n",
    "    def find(v):  # v의 루트 찾기\n",
    "        if v != parent[v]:  # v가 루트가 아니라면\n",
    "            parent[v] = find(parent[v])  # v의 부모에서 다시 find 수행하여 경로 압축하기\n",
    "        return parent[v]  # v의 부모 반환하기\n",
    "    \n",
    "    def union(v1, v2):  # v1과 v2가 속한 집합을 합치기\n",
    "        root1, root2 = find(v1), find(v2)  # v1과 v2의 루트 찾기\n",
    "        parent[root2] = root1  # v2가 속한 집합의 루트의 부모를 v1의 루트로 갱신하기\n",
    "        \n",
    "    graph.sort(key = lambda x: x[2])  # graph를 가중치 순으로 정렬하기\n",
    "    \n",
    "    parent = []  # 서로소 집합을 나타낼 리스트임\n",
    "    for i in range(N):  # 아직 트리에 포함된 정점이 없으므로\n",
    "        parent.append(i)  # 각각의 정점의 루트는 자기 자신임\n",
    "        \n",
    "    mst = []  # 트리에 포함시킬 간선들이 담길 리스트임\n",
    "    cost = 0  # 트리에 포함된 간선들의 가중치 합임\n",
    "    \n",
    "    while True:\n",
    "    \n",
    "        if len(mst) == N - 1:  # 트리에 존재하는 간선이 N - 1개가 되면\n",
    "            break  # 실행 중지하기\n",
    "            \n",
    "        v1, v2, weight = graph.pop(0)  # 가중치가 가장 작은 간선 뽑기\n",
    "        \n",
    "        if find(v1) != find(v2):  # v1과 v2가 다른 집합에 존재하면 사이클이 생기지 않으므로\n",
    "            mst.append([v1, v2])  # 뽑은 간선을 트리에 추가하기\n",
    "            union(v1, v2)  # v1과 v2가 트리에 추가되었으므로 v1과 v2가 속한 집합을 합치기\n",
    "            cost += weight  # weight에 뽑은 간선의 가중치 더하기\n",
    "    \n",
    "    return mst, cost"
   ]
  },
  {
   "cell_type": "code",
   "execution_count": 12,
   "metadata": {},
   "outputs": [
    {
     "data": {
      "text/plain": [
       "([[4, 6], [2, 5], [1, 6], [3, 5], [5, 6], [0, 1]], 25)"
      ]
     },
     "execution_count": 12,
     "metadata": {},
     "output_type": "execute_result"
    }
   ],
   "source": [
    "Kruskal([(0, 1, 9), (0, 2, 10), (1, 3, 10), (1, 4, 5),\n",
    "         (1, 6, 3), (2, 3, 9), (2, 4, 7), (2, 5, 2),\n",
    "         (3, 5, 4), (3, 6, 8), (4, 6, 1), (5, 6, 6)], 7)"
   ]
  },
  {
   "cell_type": "markdown",
   "metadata": {},
   "source": [
    "#### Prim"
   ]
  },
  {
   "cell_type": "code",
   "execution_count": 13,
   "metadata": {},
   "outputs": [],
   "source": [
    "import sys\n",
    "\n",
    "def Prim(graph, start, N):  # graph[v]는 정점 v에 인접한 (정점, 가중치)의 리스트, start는 트리에 처음으로 추가될 정점, N은 정점의 개수임\n",
    "    \n",
    "    visited = [False] * N  # visited[i]의 값은 정점 i를 방문했다면 True이고 아니면 False임    \n",
    "    D = [sys.maxsize] * N \n",
    "    previous = [None] * N  # previous[i]의 값은 D[i]의 값이 갱신된 순간의 트리에 추가된 정점임 \n",
    "    D[start], previous[start] = 0, start\n",
    "    \n",
    "    vertices = 1  # 트리에 추가된 정점의 수\n",
    "    while True:\n",
    "     \n",
    "        if vertices == N:  # 트리에 존재하는 정점의 수가 N이 되면\n",
    "            break  # 실행 중지하기\n",
    "        \n",
    "        min_vertex = -1  # min_vertex는 트리에 인접한 정점들 중 간선의 가중치가 가장 작은 정점임\n",
    "        min_value = sys.maxsize  # min_value는 min_vertex를 트리에 연결해주는 간선의 가중치임\n",
    "        \n",
    "        for v in range(N):\n",
    "            if not visited[v] and D[v] < min_value:\n",
    "                min_vertex = v\n",
    "                min_value = D[v]\n",
    "                \n",
    "        visited[min_vertex] = True  # min_vertex 방문하기\n",
    "        vertices += 1\n",
    "        \n",
    "        for adj_v, weight in graph[min_vertex]:  # min_vertex가 트리에 추가되면서 트리에 새롭게 인접해지게 된 정점들 adj_v에 대해\n",
    "            if not visited[adj_v]:  # adj_v를 아직 방문하지 않은 동시에(트리에 속하지 않은 동시에)\n",
    "                if weight < D[adj_v]:  # min_vertex와 adj_v를 잇는 간선의 가중치가 D[adj_v]보다 작다면\n",
    "                    D[adj_v] = weight  # D[adj_v] 갱신하기\n",
    "                    previous[adj_v] = min_vertex  # D[adj_v]가 min_vertex에 의해 갱신되었음을 나타내기\n",
    "    \n",
    "    mst = [[v, previous[v]] for v in range(1, N)]  # mst는 트리에 추가된 간선들의 집합\n",
    "    cost = sum(D[1:])  # cost는 트리에 추가된 간선들의 가중치 합\n",
    "    \n",
    "    return mst, cost"
   ]
  },
  {
   "cell_type": "code",
   "execution_count": 14,
   "metadata": {},
   "outputs": [
    {
     "data": {
      "text/plain": [
       "([[1, 0], [2, 5], [3, 5], [4, 6], [5, 6], [6, 1]], 25)"
      ]
     },
     "execution_count": 14,
     "metadata": {},
     "output_type": "execute_result"
    }
   ],
   "source": [
    "Prim([[(1, 9), (2, 10)],\n",
    "      [(0, 9), (3, 10), (4, 5), (6, 3)],\n",
    "      [(0, 10), (3, 9), (4, 7), (5, 2)],\n",
    "      [(1, 10), (2, 9), (5, 4), (6, 8)],\n",
    "      [(1, 5),  (2, 7), (6, 1)],\n",
    "      [(2, 2),  (3, 4), (6, 6)],\n",
    "      [(1, 3),  (3, 8), (4, 1), (5, 6)]], start = 0, N = 7)"
   ]
  },
  {
   "cell_type": "markdown",
   "metadata": {},
   "source": [
    "# Shortest Path"
   ]
  },
  {
   "cell_type": "markdown",
   "metadata": {},
   "source": [
    "#### Dijkstra"
   ]
  },
  {
   "cell_type": "code",
   "execution_count": 15,
   "metadata": {},
   "outputs": [],
   "source": [
    "import sys\n",
    "\n",
    "def Dijkstra(graph, start):  # graph[v]는 (adj_v, weight)의 list\n",
    "    \n",
    "    N = len(graph)\n",
    "    visited = [False] * N\n",
    "    D, previous = [sys.maxsize] * N, [None] * N\n",
    "    D[start], previous[start] = 0, start\n",
    "    \n",
    "    count = 1\n",
    "    while True:\n",
    "        \n",
    "        if count == N:\n",
    "            break\n",
    "        \n",
    "        min_vertex = -1\n",
    "        min_value = sys.maxsize\n",
    "        for v in range(N):\n",
    "            if not visited[v] and D[v] < min_value:\n",
    "                min_vertex = v\n",
    "                min_value = D[v]\n",
    "        visited[min_vertex] = True\n",
    "        count += 1\n",
    "        \n",
    "        for adj_v, weight in graph[min_vertex]:\n",
    "            if not visited[adj_v]:\n",
    "                if D[min_vertex] + weight < D[adj_v]:\n",
    "                    D[adj_v] = D[min_vertex] + weight\n",
    "                    previous[adj_v] = min_vertex\n",
    "    \n",
    "    path = []\n",
    "    for v in range(N):\n",
    "        \n",
    "        v_path = []\n",
    "        \n",
    "        if D[v] == sys.maxsize:\n",
    "            D[v] = None\n",
    "            v_path.append(None)\n",
    "        \n",
    "        prev_v = v\n",
    "        while prev_v != start:\n",
    "            v_path.append(prev_v)\n",
    "            prev_v = previous[prev_v]\n",
    "        v_path.append(start)\n",
    "        v_path.reverse()\n",
    "        \n",
    "        path.append(v_path)\n",
    "    \n",
    "    return list(zip(path, D))"
   ]
  },
  {
   "cell_type": "code",
   "execution_count": 16,
   "metadata": {},
   "outputs": [
    {
     "data": {
      "text/plain": [
       "[([0], 0),\n",
       " ([0, 1], 1),\n",
       " ([0, 1, 2], 5),\n",
       " ([0, 3], 2),\n",
       " ([0, 1, 4], 2),\n",
       " ([0, 1, 2, 5], 6),\n",
       " ([0, 1, 4, 6], 4),\n",
       " ([0, 1, 4, 6, 7], 5)]"
      ]
     },
     "execution_count": 16,
     "metadata": {},
     "output_type": "execute_result"
    }
   ],
   "source": [
    "Dijkstra([[(1, 1), (3, 2)],\n",
    "         [(0, 1), (2, 4), (3, 3), (4, 1), (5, 6)],\n",
    "         [(1, 4), (5, 1), (6, 1), (7, 2)],\n",
    "         [(0, 2), (1, 3), (4, 5)],\n",
    "         [(1, 1), (3, 5), (6, 2)],\n",
    "         [(1, 6), (2, 1), (7, 9)],\n",
    "         [(2, 1), (4, 2), (7, 1)],\n",
    "         [(2, 2), (5, 9), (6, 1)]], start = 0)"
   ]
  },
  {
   "cell_type": "markdown",
   "metadata": {},
   "source": [
    "#### Floyd-Warshall"
   ]
  },
  {
   "cell_type": "code",
   "execution_count": 17,
   "metadata": {},
   "outputs": [],
   "source": [
    "import sys\n",
    "\n",
    "def floyd_warshall(adj_matrix):\n",
    "    \n",
    "    N = len(adj_matrix)\n",
    "    \n",
    "    for count in range(N):\n",
    "        for i in range(N):\n",
    "            for j in range(N):\n",
    "                adj_matrix[i][j] = min(adj_matrix[i][j], adj_matrix[i][count] + adj_matrix[count][j])\n",
    "\n",
    "    return adj_matrix"
   ]
  },
  {
   "cell_type": "code",
   "execution_count": 18,
   "metadata": {},
   "outputs": [
    {
     "data": {
      "text/plain": [
       "[[0, 1, 2, 3, 4],\n",
       " [0, 0, 1, 2, 3],\n",
       " [-1, -1, 0, 1, 2],\n",
       " [-2, -1, 0, 0, 2],\n",
       " [-3, -3, -2, -1, 0]]"
      ]
     },
     "execution_count": 18,
     "metadata": {},
     "output_type": "execute_result"
    }
   ],
   "source": [
    "INF = sys.maxsize\n",
    "floyd_warshall([[0, 4, 2, 5, INF],\n",
    "                [INF, 0, 1, INF, 4],\n",
    "                [1, 3, 0, 1, 2],\n",
    "                [-2, INF, INF, 0, 2],\n",
    "                [INF, -3, 3, 1, 0]])"
   ]
  }
 ],
 "metadata": {
  "kernelspec": {
   "display_name": "Python 3",
   "language": "python",
   "name": "python3"
  },
  "language_info": {
   "codemirror_mode": {
    "name": "ipython",
    "version": 3
   },
   "file_extension": ".py",
   "mimetype": "text/x-python",
   "name": "python",
   "nbconvert_exporter": "python",
   "pygments_lexer": "ipython3",
   "version": "3.7.6"
  }
 },
 "nbformat": 4,
 "nbformat_minor": 4
}
