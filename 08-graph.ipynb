{
 "cells": [
  {
   "cell_type": "markdown",
   "metadata": {},
   "source": [
    "# Depth First Search"
   ]
  },
  {
   "cell_type": "code",
   "execution_count": 1,
   "metadata": {},
   "outputs": [],
   "source": [
    " def DFS(adj_list):\n",
    "        \n",
    "        visited = [False] * len(adj_list)\n",
    "        \n",
    "        def dfs(v):\n",
    "            visited[v] = True\n",
    "            print(v, end=' ')\n",
    "            for adj_v in adj_list[v]:\n",
    "                if not visited[adj_v]:\n",
    "                    dfs(adj_v)\n",
    "        \n",
    "        for v in range(len(adj_list)):\n",
    "            if not visited[v]:\n",
    "                dfs(v)"
   ]
  },
  {
   "cell_type": "code",
   "execution_count": 2,
   "metadata": {},
   "outputs": [
    {
     "name": "stdout",
     "output_type": "stream",
     "text": [
      "0 2 3 9 8 1 4 5 7 6 "
     ]
    }
   ],
   "source": [
    "DFS([[2, 1], [3, 0], [3, 0], [9, 8, 2, 1], [5], [7, 6, 4], [7, 5], [6, 5], [3], [3]])"
   ]
  },
  {
   "cell_type": "markdown",
   "metadata": {},
   "source": [
    "#### Finding Connected Component"
   ]
  },
  {
   "cell_type": "code",
   "execution_count": 3,
   "metadata": {},
   "outputs": [],
   "source": [
    "def CC(adj_list):\n",
    "\n",
    "        visited = [False] * len(adj_list)\n",
    "        CClist = []\n",
    "        \n",
    "        def dfs(v):\n",
    "            visited[v] = True\n",
    "            cclist.append(v)\n",
    "            for adj_v in adj_list[v]:\n",
    "                if not visited[adj_v]:\n",
    "                    dfs(adj_v)\n",
    "        \n",
    "        for v in range(len(adj_list)):\n",
    "            if not visited[v]:\n",
    "                cclist = []\n",
    "                dfs(v)\n",
    "                CClist.append(cclist)\n",
    "        \n",
    "        return CClist"
   ]
  },
  {
   "cell_type": "code",
   "execution_count": 4,
   "metadata": {},
   "outputs": [
    {
     "data": {
      "text/plain": [
       "[[0, 3, 6, 1, 10, 8, 12, 11, 2, 7], [4, 13, 9], [5, 14]]"
      ]
     },
     "execution_count": 4,
     "metadata": {},
     "output_type": "execute_result"
    }
   ],
   "source": [
    "CC([[3], [6, 10], [7, 11], [0, 6, 8], [13], [14], [1, 3, 8, 10, 11], [2, 11], [3, 6, 10, 12], [13], [1, 6, 8], [2, 6, 7], [8], [4, 9], [5]])"
   ]
  },
  {
   "cell_type": "markdown",
   "metadata": {},
   "source": [
    "#### Topological Sort"
   ]
  },
  {
   "cell_type": "code",
   "execution_count": 5,
   "metadata": {},
   "outputs": [],
   "source": [
    "def TS(adj_list):\n",
    "    \n",
    "    visited = [False] * len(adj_list)\n",
    "    TSlist = []\n",
    "    \n",
    "    def dfs(v):\n",
    "        visited[v] = True\n",
    "        for adj_v in adj_list[v]:\n",
    "            if not visited[adj_v]:\n",
    "                dfs(adj_v)\n",
    "        TSlist.append(v)\n",
    "        \n",
    "    for v in range(len(adj_list)):\n",
    "        if not visited[v]:\n",
    "            dfs(v)\n",
    "    \n",
    "    return list(reversed(TSlist))"
   ]
  },
  {
   "cell_type": "code",
   "execution_count": 6,
   "metadata": {},
   "outputs": [
    {
     "data": {
      "text/plain": [
       "[2, 0, 1, 4, 5, 3, 6, 7, 8]"
      ]
     },
     "execution_count": 6,
     "metadata": {},
     "output_type": "execute_result"
    }
   ],
   "source": [
    "TS([[1], [3, 4], [0, 1], [6], [5], [7], [7], [8], []])"
   ]
  },
  {
   "cell_type": "markdown",
   "metadata": {},
   "source": [
    "# Breadth First Search"
   ]
  },
  {
   "cell_type": "code",
   "execution_count": 7,
   "metadata": {},
   "outputs": [],
   "source": [
    "def BFS(adj_list):\n",
    "    \n",
    "    visited = [False] * len(adj_list)\n",
    "    \n",
    "    def bfs(v):\n",
    "        queue = []\n",
    "        visited[v] = True\n",
    "        queue.append(v)\n",
    "        while len(queue) > 0:\n",
    "            v = queue.pop(0)\n",
    "            print(v, end=' ')\n",
    "            for adj_v in adj_list[v]:\n",
    "                if not visited[adj_v]:\n",
    "                    visited[adj_v] = True\n",
    "                    queue.append(adj_v)\n",
    "    \n",
    "    for v in range(len(adj_list)):\n",
    "        if not visited[v]:\n",
    "            bfs(v)"
   ]
  },
  {
   "cell_type": "code",
   "execution_count": 8,
   "metadata": {},
   "outputs": [
    {
     "name": "stdout",
     "output_type": "stream",
     "text": [
      "0 2 1 3 9 8 4 5 7 6 "
     ]
    }
   ],
   "source": [
    "BFS([[2, 1], [3, 0], [3, 0], [9, 8, 2, 1], [5], [7, 6, 4], [7, 5], [6, 5], [3], [3]])"
   ]
  }
 ],
 "metadata": {
  "kernelspec": {
   "display_name": "Python 3",
   "language": "python",
   "name": "python3"
  },
  "language_info": {
   "codemirror_mode": {
    "name": "ipython",
    "version": 3
   },
   "file_extension": ".py",
   "mimetype": "text/x-python",
   "name": "python",
   "nbconvert_exporter": "python",
   "pygments_lexer": "ipython3",
   "version": "3.7.6"
  }
 },
 "nbformat": 4,
 "nbformat_minor": 4
}
