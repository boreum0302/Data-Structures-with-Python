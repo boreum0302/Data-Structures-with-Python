{
 "cells": [
  {
   "cell_type": "markdown",
   "metadata": {},
   "source": [
    "# Programs"
   ]
  },
  {
   "cell_type": "markdown",
   "metadata": {},
   "source": [
    "#### 4.1 BinaryTree"
   ]
  },
  {
   "cell_type": "code",
   "execution_count": 1,
   "metadata": {},
   "outputs": [],
   "source": [
    "class Node:\n",
    "    def __init__(self, item, left=None, right=None):\n",
    "        self.item = item\n",
    "        self.left = left  # 왼쪽 아래에 달린 자식\n",
    "        self.right = right  # 오른쪽 아래에 달린 자식\n",
    "\n",
    "class BinaryTree:\n",
    "        \n",
    "    class EmptyError(Exception):\n",
    "        pass\n",
    "    \n",
    "    def __init__(self):\n",
    "        self.root = None\n",
    "        \n",
    "    def preorder(self, node):  # 전위순회(Node -> Left -> Right)\n",
    "        if node != None:\n",
    "            print(str(node.item), end=' ')\n",
    "            if node.left:\n",
    "                self.preorder(node.left)\n",
    "            if node.right:\n",
    "                self.preorder(node.right)\n",
    "            \n",
    "    def postorder(self, node): # 후위순회(Left -> Right -> Node)\n",
    "        if node != None:\n",
    "            if node.left:\n",
    "                self.postorder(node.left)\n",
    "            if node.right:\n",
    "                self.postorder(node.right)\n",
    "            print(str(node.item), end=' ')\n",
    "    \n",
    "    def inorder(self, node): # 중위순회(Left -> Node -> Right)\n",
    "        if node != None:\n",
    "            if node.left:\n",
    "                self.inorder(node.left)\n",
    "            print(str(node.item), end=' ')\n",
    "            if node.right:\n",
    "                self.inorder(node.right)\n",
    "                \n",
    "    def levelorder(self, node):  # 최상위 레벨부터 시작하여 각 레벨마다 왼쪽에서 오른쪽으로 노드를 방문함\n",
    "        if node == None:\n",
    "            return\n",
    "        q = [node]\n",
    "        while len(q) > 0:\n",
    "            new_node = q.pop(0)\n",
    "            print(new_node.item, end=' ')\n",
    "            if new_node.left != None:\n",
    "                q.append(new_node.left)\n",
    "            if new_node.right != None:\n",
    "                q.append(new_node.right)\n",
    "                   \n",
    "    def height(self, node):\n",
    "        if node == None:\n",
    "            return 0\n",
    "        return max(self.height(node.left), self.height(node.right)) + 1\n",
    "    \n",
    "    def copy(self, n):  # 연습문제 4.27\n",
    "        \n",
    "        if n == None:\n",
    "            return\n",
    "        \n",
    "        nodes, coppied_nodes, q = [], [], [n]\n",
    "        while len(q) > 0:\n",
    "            node = q.pop(0)\n",
    "            nodes.append(node)\n",
    "            coppied_nodes.append(Node(node.item))\n",
    "            if node.left != None:\n",
    "                q.append(node.left)\n",
    "            if node.right != None:\n",
    "                q.append(node.right)\n",
    "        \n",
    "        for i in range(len(nodes)):  # O(N^2)\n",
    "            index_left, index_right = None, None\n",
    "            for j in range(len(nodes)):\n",
    "                if nodes[i].left == nodes[j]:\n",
    "                    index_left = j\n",
    "                if nodes[i].right == nodes[j]:\n",
    "                    index_right = j\n",
    "            if index_left != None:\n",
    "                coppied_nodes[i].left = coppied_nodes[index_left]\n",
    "            if index_right != None:\n",
    "                coppied_nodes[i].right = coppied_nodes[index_right]\n",
    "        \n",
    "        coppied_tree = BinaryTree()\n",
    "        coppied_tree.root = coppied_nodes[0]\n",
    "        \n",
    "        return coppied_tree\n",
    "    \n",
    "    def is_same(self, my_root, other_root):  # 연습문제 4.18\n",
    "        if my_root == None or other_root == None:\n",
    "            return my_root == other_root\n",
    "        if my_root.item != other_root.item:\n",
    "            return False\n",
    "        return self.is_same(my_root.left, other_root.left) and self.is_same(my_root.right, other_root.right)"
   ]
  },
  {
   "cell_type": "code",
   "execution_count": 2,
   "metadata": {},
   "outputs": [],
   "source": [
    "tree = BinaryTree()\n",
    "n1 = Node(1)\n",
    "n2 = Node(2)\n",
    "n3 = Node(3)\n",
    "n4 = Node(4)\n",
    "n5 = Node(5)\n",
    "n6 = Node(6)\n",
    "n7 = Node(7)\n",
    "n8 = Node(8)\n",
    "n1.left = n2\n",
    "n1.right = n3\n",
    "n2.left = n4\n",
    "n2.right = n5\n",
    "n3.left = n6\n",
    "n3.right = n7\n",
    "n4.left = n8\n",
    "tree.root = n1"
   ]
  },
  {
   "cell_type": "code",
   "execution_count": 3,
   "metadata": {},
   "outputs": [],
   "source": [
    "tree2 = tree.copy(tree.root)"
   ]
  },
  {
   "cell_type": "code",
   "execution_count": 4,
   "metadata": {},
   "outputs": [
    {
     "name": "stdout",
     "output_type": "stream",
     "text": [
      "False\n"
     ]
    }
   ],
   "source": [
    "print(tree == tree2)"
   ]
  },
  {
   "cell_type": "code",
   "execution_count": 5,
   "metadata": {},
   "outputs": [
    {
     "name": "stdout",
     "output_type": "stream",
     "text": [
      "True\n"
     ]
    }
   ],
   "source": [
    "print(tree.is_same(tree.root, tree2.root))"
   ]
  },
  {
   "cell_type": "markdown",
   "metadata": {},
   "source": [
    "#### 4.3 BinaryHeap"
   ]
  },
  {
   "cell_type": "code",
   "execution_count": 6,
   "metadata": {},
   "outputs": [],
   "source": [
    "class BHeap:\n",
    "    \n",
    "    def __init__(self, a):\n",
    "        self.a = a  # 리스트\n",
    "        self.N = len(a) - 1  # 항목의 개수\n",
    "\n",
    "   # (키값, 항목) 형식의 튜플인 `key_value`를 힙에 삽입하기\n",
    "    def insert(self, key_value):\n",
    "        self.N += 1\n",
    "        self.a.append(key_value)\n",
    "        self.upheap(self.N)  # 힙의 마지막 항목부터 출발하여 올라가면서 힙 속성 회복하기\n",
    "        \n",
    "   # j번째 항목부터 올라가면서 힙 속성 회복하기\n",
    "    def upheap(self, j):\n",
    "        while j > 1 and self.a[j//2][0] > self.a[j][0]:  # 부모의 키값이 자식의 키값보다 큰 경우에만\n",
    "            self.a[j], self.a[j//2] = self.a[j//2], self.a[j]  # 부모와 자식을 맞바꾸기\n",
    "            j = j//2  # 한 층 올라가기\n",
    "            \n",
    "    # 힙에서 키값이 가장 작은 항목 삭제하고 삭제된 항목 반환하기\n",
    "    def delete_min(self):\n",
    "        if self.N == 0:\n",
    "            raise EmptyError('Underflow')\n",
    "        else:\n",
    "            minimum = self.a[1]\n",
    "            self.a[1], self.a[-1] = self.a[-1], self.a[1]  # 첫 항목과 마지막 항목을 맞바꾸기\n",
    "            del self.a[-1]  # 맨 뒤를 삭제하기\n",
    "            self.N -= 1\n",
    "            self.downheap(1)  # 힙의 첫 항목부터 출발하여 내려가면서 힙 속성 회복하기\n",
    "            return minimum\n",
    "    \n",
    "    # i번째 항목부터 내려가면서 힙 속성 회복하기\n",
    "    def downheap(self, i):\n",
    "        while 2*i <= self.N:\n",
    "            k = 2*i  # a[i]의 자식은 a[2*i]와 a[2*i + 1]에 존재함\n",
    "            if k < self.N and self.a[k][0] > self.a[k + 1][0]:\n",
    "                k += 1  # 왼쪽 자식의 키값이 작다면 k = 2*i이고 오른쪽 자식의 키값이 작다면 k = 2*i + 1임\n",
    "            if self.a[i][0] < self.a[k][0]:  \n",
    "                break  # 부모의 키값이 두 자식의 키값보다 작다면 힙 속성을 만족하는 것이니까 반복문 나가기\n",
    "            self.a[i], self.a[k] = self.a[k], self.a[i]  # 힙 속성을 만족시키기 위해 두 자식 중 키값이 작은 것을 부모와 맞바꾸기\n",
    "            i = k  # 한 층 내려가기\n",
    "            \n",
    "    # self.a를 힙 속성을 만족하게끔 재배열함\n",
    "    def create_heap(self):\n",
    "        # 마지막 직전 층에서부터 downheap을 수행하며 올라감\n",
    "        for i in range(self.N//2, 0, -1):\n",
    "            self.downheap(i)"
   ]
  },
  {
   "cell_type": "code",
   "execution_count": 7,
   "metadata": {},
   "outputs": [
    {
     "data": {
      "text/plain": [
       "[(90, '수박'),\n",
       " (80, '수박'),\n",
       " (70, '수박'),\n",
       " (50, '수박'),\n",
       " (60, '수박'),\n",
       " (20, '수박'),\n",
       " (30, '수박'),\n",
       " (35, '수박'),\n",
       " (10, '수박'),\n",
       " (15, '수박'),\n",
       " (45, '수박'),\n",
       " (40, '수박')]"
      ]
     },
     "execution_count": 7,
     "metadata": {},
     "output_type": "execute_result"
    }
   ],
   "source": [
    "a = [None, (90, '수박'), (80, '수박'), (70, '수박'), (50, '수박'), (60, '수박'), (20, '수박'), (30, '수박'), (35, '수박'), (10, '수박'), (15, '수박'), (45, '수박'), (40, '수박')]\n",
    "b = BHeap(a)\n",
    "b.a[1:]"
   ]
  },
  {
   "cell_type": "code",
   "execution_count": 8,
   "metadata": {},
   "outputs": [
    {
     "data": {
      "text/plain": [
       "[(10, '수박'),\n",
       " (15, '수박'),\n",
       " (20, '수박'),\n",
       " (35, '수박'),\n",
       " (45, '수박'),\n",
       " (40, '수박'),\n",
       " (30, '수박'),\n",
       " (80, '수박'),\n",
       " (50, '수박'),\n",
       " (60, '수박'),\n",
       " (90, '수박'),\n",
       " (70, '수박')]"
      ]
     },
     "execution_count": 8,
     "metadata": {},
     "output_type": "execute_result"
    }
   ],
   "source": [
    "b.create_heap()\n",
    "b.a[1:]"
   ]
  },
  {
   "cell_type": "code",
   "execution_count": 9,
   "metadata": {},
   "outputs": [
    {
     "data": {
      "text/plain": [
       "(10, '수박')"
      ]
     },
     "execution_count": 9,
     "metadata": {},
     "output_type": "execute_result"
    }
   ],
   "source": [
    "b.delete_min()"
   ]
  },
  {
   "cell_type": "code",
   "execution_count": 10,
   "metadata": {},
   "outputs": [
    {
     "data": {
      "text/plain": [
       "[(5, '사과'),\n",
       " (35, '수박'),\n",
       " (15, '수박'),\n",
       " (50, '수박'),\n",
       " (45, '수박'),\n",
       " (20, '수박'),\n",
       " (30, '수박'),\n",
       " (80, '수박'),\n",
       " (70, '수박'),\n",
       " (60, '수박'),\n",
       " (90, '수박'),\n",
       " (40, '수박')]"
      ]
     },
     "execution_count": 10,
     "metadata": {},
     "output_type": "execute_result"
    }
   ],
   "source": [
    "b.insert((5, '사과'))\n",
    "b.a[1:]"
   ]
  }
 ],
 "metadata": {
  "kernelspec": {
   "display_name": "Python 3",
   "language": "python",
   "name": "python3"
  },
  "language_info": {
   "codemirror_mode": {
    "name": "ipython",
    "version": 3
   },
   "file_extension": ".py",
   "mimetype": "text/x-python",
   "name": "python",
   "nbconvert_exporter": "python",
   "pygments_lexer": "ipython3",
   "version": "3.7.6"
  }
 },
 "nbformat": 4,
 "nbformat_minor": 4
}
